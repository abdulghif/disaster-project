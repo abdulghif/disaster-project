{
 "cells": [
  {
   "cell_type": "markdown",
   "metadata": {},
   "source": [
    "# ML Pipeline Preparation\n",
    "Follow the instructions below to help you create your ML pipeline.\n",
    "### 1. Import libraries and load data from database.\n",
    "- Import Python libraries\n",
    "- Load dataset from database with [`read_sql_table`](https://pandas.pydata.org/pandas-docs/stable/generated/pandas.read_sql_table.html)\n",
    "- Define feature and target variables X and Y"
   ]
  },
  {
   "cell_type": "code",
   "execution_count": 1,
   "metadata": {},
   "outputs": [],
   "source": [
    "# import libraries\n",
    "import pandas as pd\n",
    "import numpy as np\n",
    "from sqlalchemy import create_engine\n",
    "\n",
    "\n",
    "import re\n",
    "\n",
    "from nltk.tokenize import word_tokenize\n",
    "from nltk.corpus import stopwords\n",
    "from nltk.stem.porter import PorterStemmer\n",
    "from nltk.stem.wordnet import WordNetLemmatizer\n",
    "\n",
    "from sklearn.feature_extraction.text import TfidfVectorizer, CountVectorizer\n",
    "from sklearn.ensemble import RandomForestClassifier\n",
    "from sklearn.naive_bayes import MultinomialNB\n",
    "from sklearn.pipeline import Pipeline\n",
    "\n",
    "from sklearn.model_selection import train_test_split, GridSearchCV\n",
    "\n",
    "from sklearn.metrics import accuracy_score, precision_score, recall_score,f1_score"
   ]
  },
  {
   "cell_type": "code",
   "execution_count": 13,
   "metadata": {},
   "outputs": [
    {
     "name": "stderr",
     "output_type": "stream",
     "text": [
      "[nltk_data] Downloading package punkt to\n",
      "[nltk_data]     /Users/abdullahghifari/nltk_data...\n",
      "[nltk_data]   Package punkt is already up-to-date!\n",
      "[nltk_data] Downloading package wordnet to\n",
      "[nltk_data]     /Users/abdullahghifari/nltk_data...\n",
      "[nltk_data]   Package wordnet is already up-to-date!\n",
      "[nltk_data] Downloading package stopwords to\n",
      "[nltk_data]     /Users/abdullahghifari/nltk_data...\n",
      "[nltk_data]   Package stopwords is already up-to-date!\n",
      "[nltk_data] Downloading package omw-1.4 to\n",
      "[nltk_data]     /Users/abdullahghifari/nltk_data...\n"
     ]
    },
    {
     "data": {
      "text/plain": [
       "True"
      ]
     },
     "execution_count": 13,
     "metadata": {},
     "output_type": "execute_result"
    }
   ],
   "source": [
    "import nltk\n",
    "nltk.download('punkt')\n",
    "nltk.download('wordnet')\n",
    "nltk.download('stopwords')\n",
    "nltk.download('omw-1.4')"
   ]
  },
  {
   "cell_type": "code",
   "execution_count": 14,
   "metadata": {},
   "outputs": [],
   "source": [
    "# load data from database\n",
    "engine = create_engine('sqlite:///disaster.db')\n",
    "df = pd.read_sql_table('messages_clean_table',con=engine)"
   ]
  },
  {
   "cell_type": "code",
   "execution_count": 15,
   "metadata": {},
   "outputs": [],
   "source": [
    "X = df['message']\n",
    "Y = df.iloc[:,4:]"
   ]
  },
  {
   "cell_type": "markdown",
   "metadata": {},
   "source": [
    "### 2. Write a tokenization function to process your text data"
   ]
  },
  {
   "cell_type": "code",
   "execution_count": 16,
   "metadata": {},
   "outputs": [],
   "source": [
    "def tokenize(text):\n",
    "    \n",
    "    text = re.sub(r\"[^a-zA-Z0-9]\", \" \", text.lower())\n",
    "    \n",
    "    words = word_tokenize(text)\n",
    "    words = [w for w in words if w not in stopwords.words(\"english\")]\n",
    "    \n",
    "    words = [PorterStemmer().stem(w) for w in words]\n",
    "    words = [WordNetLemmatizer().lemmatize(w) for w in words]\n",
    "    \n",
    "    return words"
   ]
  },
  {
   "cell_type": "markdown",
   "metadata": {},
   "source": [
    "### 3. Build a machine learning pipeline\n",
    "This machine pipeline should take in the `message` column as input and output classification results on the other 36 categories in the dataset. You may find the [MultiOutputClassifier](http://scikit-learn.org/stable/modules/generated/sklearn.multioutput.MultiOutputClassifier.html) helpful for predicting multiple target variables."
   ]
  },
  {
   "cell_type": "code",
   "execution_count": 17,
   "metadata": {},
   "outputs": [],
   "source": [
    "vectorizer = TfidfVectorizer( tokenizer=tokenize ,use_idf=True, smooth_idf=True, sublinear_tf=False)\n",
    "\n",
    "rf = RandomForestClassifier(random_state=123)\n",
    "\n",
    "pipeline = Pipeline([\n",
    "    ('vectorizer',vectorizer),\n",
    "    ('model',rf)\n",
    "])# compute bag of word counts and tf-idf values"
   ]
  },
  {
   "cell_type": "markdown",
   "metadata": {},
   "source": [
    "### 4. Train pipeline\n",
    "- Split data into train and test sets\n",
    "- Train pipeline"
   ]
  },
  {
   "cell_type": "code",
   "execution_count": 18,
   "metadata": {},
   "outputs": [
    {
     "name": "stderr",
     "output_type": "stream",
     "text": [
      "/Users/abdullahghifari/anaconda3/lib/python3.10/site-packages/sklearn/feature_extraction/text.py:528: UserWarning: The parameter 'token_pattern' will not be used since 'tokenizer' is not None'\n",
      "  warnings.warn(\n"
     ]
    },
    {
     "data": {
      "text/html": [
       "<style>#sk-container-id-1 {color: black;background-color: white;}#sk-container-id-1 pre{padding: 0;}#sk-container-id-1 div.sk-toggleable {background-color: white;}#sk-container-id-1 label.sk-toggleable__label {cursor: pointer;display: block;width: 100%;margin-bottom: 0;padding: 0.3em;box-sizing: border-box;text-align: center;}#sk-container-id-1 label.sk-toggleable__label-arrow:before {content: \"▸\";float: left;margin-right: 0.25em;color: #696969;}#sk-container-id-1 label.sk-toggleable__label-arrow:hover:before {color: black;}#sk-container-id-1 div.sk-estimator:hover label.sk-toggleable__label-arrow:before {color: black;}#sk-container-id-1 div.sk-toggleable__content {max-height: 0;max-width: 0;overflow: hidden;text-align: left;background-color: #f0f8ff;}#sk-container-id-1 div.sk-toggleable__content pre {margin: 0.2em;color: black;border-radius: 0.25em;background-color: #f0f8ff;}#sk-container-id-1 input.sk-toggleable__control:checked~div.sk-toggleable__content {max-height: 200px;max-width: 100%;overflow: auto;}#sk-container-id-1 input.sk-toggleable__control:checked~label.sk-toggleable__label-arrow:before {content: \"▾\";}#sk-container-id-1 div.sk-estimator input.sk-toggleable__control:checked~label.sk-toggleable__label {background-color: #d4ebff;}#sk-container-id-1 div.sk-label input.sk-toggleable__control:checked~label.sk-toggleable__label {background-color: #d4ebff;}#sk-container-id-1 input.sk-hidden--visually {border: 0;clip: rect(1px 1px 1px 1px);clip: rect(1px, 1px, 1px, 1px);height: 1px;margin: -1px;overflow: hidden;padding: 0;position: absolute;width: 1px;}#sk-container-id-1 div.sk-estimator {font-family: monospace;background-color: #f0f8ff;border: 1px dotted black;border-radius: 0.25em;box-sizing: border-box;margin-bottom: 0.5em;}#sk-container-id-1 div.sk-estimator:hover {background-color: #d4ebff;}#sk-container-id-1 div.sk-parallel-item::after {content: \"\";width: 100%;border-bottom: 1px solid gray;flex-grow: 1;}#sk-container-id-1 div.sk-label:hover label.sk-toggleable__label {background-color: #d4ebff;}#sk-container-id-1 div.sk-serial::before {content: \"\";position: absolute;border-left: 1px solid gray;box-sizing: border-box;top: 0;bottom: 0;left: 50%;z-index: 0;}#sk-container-id-1 div.sk-serial {display: flex;flex-direction: column;align-items: center;background-color: white;padding-right: 0.2em;padding-left: 0.2em;position: relative;}#sk-container-id-1 div.sk-item {position: relative;z-index: 1;}#sk-container-id-1 div.sk-parallel {display: flex;align-items: stretch;justify-content: center;background-color: white;position: relative;}#sk-container-id-1 div.sk-item::before, #sk-container-id-1 div.sk-parallel-item::before {content: \"\";position: absolute;border-left: 1px solid gray;box-sizing: border-box;top: 0;bottom: 0;left: 50%;z-index: -1;}#sk-container-id-1 div.sk-parallel-item {display: flex;flex-direction: column;z-index: 1;position: relative;background-color: white;}#sk-container-id-1 div.sk-parallel-item:first-child::after {align-self: flex-end;width: 50%;}#sk-container-id-1 div.sk-parallel-item:last-child::after {align-self: flex-start;width: 50%;}#sk-container-id-1 div.sk-parallel-item:only-child::after {width: 0;}#sk-container-id-1 div.sk-dashed-wrapped {border: 1px dashed gray;margin: 0 0.4em 0.5em 0.4em;box-sizing: border-box;padding-bottom: 0.4em;background-color: white;}#sk-container-id-1 div.sk-label label {font-family: monospace;font-weight: bold;display: inline-block;line-height: 1.2em;}#sk-container-id-1 div.sk-label-container {text-align: center;}#sk-container-id-1 div.sk-container {/* jupyter's `normalize.less` sets `[hidden] { display: none; }` but bootstrap.min.css set `[hidden] { display: none !important; }` so we also need the `!important` here to be able to override the default hidden behavior on the sphinx rendered scikit-learn.org. See: https://github.com/scikit-learn/scikit-learn/issues/21755 */display: inline-block !important;position: relative;}#sk-container-id-1 div.sk-text-repr-fallback {display: none;}</style><div id=\"sk-container-id-1\" class=\"sk-top-container\"><div class=\"sk-text-repr-fallback\"><pre>Pipeline(steps=[(&#x27;vectorizer&#x27;,\n",
       "                 TfidfVectorizer(tokenizer=&lt;function tokenize at 0x15da1eb90&gt;)),\n",
       "                (&#x27;model&#x27;, RandomForestClassifier(random_state=123))])</pre><b>In a Jupyter environment, please rerun this cell to show the HTML representation or trust the notebook. <br />On GitHub, the HTML representation is unable to render, please try loading this page with nbviewer.org.</b></div><div class=\"sk-container\" hidden><div class=\"sk-item sk-dashed-wrapped\"><div class=\"sk-label-container\"><div class=\"sk-label sk-toggleable\"><input class=\"sk-toggleable__control sk-hidden--visually\" id=\"sk-estimator-id-1\" type=\"checkbox\" ><label for=\"sk-estimator-id-1\" class=\"sk-toggleable__label sk-toggleable__label-arrow\">Pipeline</label><div class=\"sk-toggleable__content\"><pre>Pipeline(steps=[(&#x27;vectorizer&#x27;,\n",
       "                 TfidfVectorizer(tokenizer=&lt;function tokenize at 0x15da1eb90&gt;)),\n",
       "                (&#x27;model&#x27;, RandomForestClassifier(random_state=123))])</pre></div></div></div><div class=\"sk-serial\"><div class=\"sk-item\"><div class=\"sk-estimator sk-toggleable\"><input class=\"sk-toggleable__control sk-hidden--visually\" id=\"sk-estimator-id-2\" type=\"checkbox\" ><label for=\"sk-estimator-id-2\" class=\"sk-toggleable__label sk-toggleable__label-arrow\">TfidfVectorizer</label><div class=\"sk-toggleable__content\"><pre>TfidfVectorizer(tokenizer=&lt;function tokenize at 0x15da1eb90&gt;)</pre></div></div></div><div class=\"sk-item\"><div class=\"sk-estimator sk-toggleable\"><input class=\"sk-toggleable__control sk-hidden--visually\" id=\"sk-estimator-id-3\" type=\"checkbox\" ><label for=\"sk-estimator-id-3\" class=\"sk-toggleable__label sk-toggleable__label-arrow\">RandomForestClassifier</label><div class=\"sk-toggleable__content\"><pre>RandomForestClassifier(random_state=123)</pre></div></div></div></div></div></div></div>"
      ],
      "text/plain": [
       "Pipeline(steps=[('vectorizer',\n",
       "                 TfidfVectorizer(tokenizer=<function tokenize at 0x15da1eb90>)),\n",
       "                ('model', RandomForestClassifier(random_state=123))])"
      ]
     },
     "execution_count": 18,
     "metadata": {},
     "output_type": "execute_result"
    }
   ],
   "source": [
    "X_train,X_test,y_train,y_test = train_test_split(X,Y,test_size=0.3,random_state=123)\n",
    "pipeline.fit(X_train,y_train)"
   ]
  },
  {
   "cell_type": "markdown",
   "metadata": {},
   "source": [
    "### 5. Test your model\n",
    "Report the f1 score, precision and recall for each output category of the dataset. You can do this by iterating through the columns and calling sklearn's `classification_report` on each."
   ]
  },
  {
   "cell_type": "code",
   "execution_count": 19,
   "metadata": {},
   "outputs": [],
   "source": [
    "y_train_pred = pipeline.predict(X_train)\n",
    "y_test_pred = pipeline.predict(X_test)"
   ]
  },
  {
   "cell_type": "code",
   "execution_count": 20,
   "metadata": {},
   "outputs": [],
   "source": [
    "def get_score(y_true,y_pred):\n",
    "    \"\"\"Get Score for Each Column\"\"\"\n",
    "    \n",
    "    accuracy = accuracy_score(y_true,y_pred)\n",
    "    precision =round( precision_score(y_true,y_pred,average='micro'))\n",
    "    recall = recall_score(y_true,y_pred,average='micro')\n",
    "    f1 = f1_score(y_true,y_pred,average='micro')\n",
    "    \n",
    "    return {'Precision':precision, 'Recall':recall,'F1-score':f1,'Accuracy':accuracy}"
   ]
  },
  {
   "cell_type": "code",
   "execution_count": 21,
   "metadata": {},
   "outputs": [
    {
     "data": {
      "text/html": [
       "<div>\n",
       "<style scoped>\n",
       "    .dataframe tbody tr th:only-of-type {\n",
       "        vertical-align: middle;\n",
       "    }\n",
       "\n",
       "    .dataframe tbody tr th {\n",
       "        vertical-align: top;\n",
       "    }\n",
       "\n",
       "    .dataframe thead th {\n",
       "        text-align: right;\n",
       "    }\n",
       "</style>\n",
       "<table border=\"1\" class=\"dataframe\">\n",
       "  <thead>\n",
       "    <tr style=\"text-align: right;\">\n",
       "      <th></th>\n",
       "      <th>Precision</th>\n",
       "      <th>Recall</th>\n",
       "      <th>F1-score</th>\n",
       "      <th>Accuracy</th>\n",
       "    </tr>\n",
       "  </thead>\n",
       "  <tbody>\n",
       "    <tr>\n",
       "      <th>0</th>\n",
       "      <td>1</td>\n",
       "      <td>0.998311</td>\n",
       "      <td>0.998311</td>\n",
       "      <td>0.998311</td>\n",
       "    </tr>\n",
       "    <tr>\n",
       "      <th>1</th>\n",
       "      <td>1</td>\n",
       "      <td>0.999401</td>\n",
       "      <td>0.999401</td>\n",
       "      <td>0.999401</td>\n",
       "    </tr>\n",
       "    <tr>\n",
       "      <th>2</th>\n",
       "      <td>1</td>\n",
       "      <td>1.000000</td>\n",
       "      <td>1.000000</td>\n",
       "      <td>1.000000</td>\n",
       "    </tr>\n",
       "    <tr>\n",
       "      <th>3</th>\n",
       "      <td>1</td>\n",
       "      <td>0.999019</td>\n",
       "      <td>0.999019</td>\n",
       "      <td>0.999019</td>\n",
       "    </tr>\n",
       "    <tr>\n",
       "      <th>4</th>\n",
       "      <td>1</td>\n",
       "      <td>0.999564</td>\n",
       "      <td>0.999564</td>\n",
       "      <td>0.999564</td>\n",
       "    </tr>\n",
       "    <tr>\n",
       "      <th>5</th>\n",
       "      <td>1</td>\n",
       "      <td>0.999728</td>\n",
       "      <td>0.999728</td>\n",
       "      <td>0.999728</td>\n",
       "    </tr>\n",
       "    <tr>\n",
       "      <th>6</th>\n",
       "      <td>1</td>\n",
       "      <td>0.999837</td>\n",
       "      <td>0.999837</td>\n",
       "      <td>0.999837</td>\n",
       "    </tr>\n",
       "    <tr>\n",
       "      <th>7</th>\n",
       "      <td>1</td>\n",
       "      <td>0.999673</td>\n",
       "      <td>0.999673</td>\n",
       "      <td>0.999673</td>\n",
       "    </tr>\n",
       "    <tr>\n",
       "      <th>8</th>\n",
       "      <td>1</td>\n",
       "      <td>0.999891</td>\n",
       "      <td>0.999891</td>\n",
       "      <td>0.999891</td>\n",
       "    </tr>\n",
       "    <tr>\n",
       "      <th>9</th>\n",
       "      <td>1</td>\n",
       "      <td>1.000000</td>\n",
       "      <td>1.000000</td>\n",
       "      <td>1.000000</td>\n",
       "    </tr>\n",
       "    <tr>\n",
       "      <th>10</th>\n",
       "      <td>1</td>\n",
       "      <td>0.999891</td>\n",
       "      <td>0.999891</td>\n",
       "      <td>0.999891</td>\n",
       "    </tr>\n",
       "    <tr>\n",
       "      <th>11</th>\n",
       "      <td>1</td>\n",
       "      <td>0.999891</td>\n",
       "      <td>0.999891</td>\n",
       "      <td>0.999891</td>\n",
       "    </tr>\n",
       "    <tr>\n",
       "      <th>12</th>\n",
       "      <td>1</td>\n",
       "      <td>0.999946</td>\n",
       "      <td>0.999946</td>\n",
       "      <td>0.999946</td>\n",
       "    </tr>\n",
       "    <tr>\n",
       "      <th>13</th>\n",
       "      <td>1</td>\n",
       "      <td>1.000000</td>\n",
       "      <td>1.000000</td>\n",
       "      <td>1.000000</td>\n",
       "    </tr>\n",
       "    <tr>\n",
       "      <th>14</th>\n",
       "      <td>1</td>\n",
       "      <td>0.999946</td>\n",
       "      <td>0.999946</td>\n",
       "      <td>0.999946</td>\n",
       "    </tr>\n",
       "    <tr>\n",
       "      <th>15</th>\n",
       "      <td>1</td>\n",
       "      <td>0.999891</td>\n",
       "      <td>0.999891</td>\n",
       "      <td>0.999891</td>\n",
       "    </tr>\n",
       "    <tr>\n",
       "      <th>16</th>\n",
       "      <td>1</td>\n",
       "      <td>0.999837</td>\n",
       "      <td>0.999837</td>\n",
       "      <td>0.999837</td>\n",
       "    </tr>\n",
       "    <tr>\n",
       "      <th>17</th>\n",
       "      <td>1</td>\n",
       "      <td>0.999891</td>\n",
       "      <td>0.999891</td>\n",
       "      <td>0.999891</td>\n",
       "    </tr>\n",
       "    <tr>\n",
       "      <th>18</th>\n",
       "      <td>1</td>\n",
       "      <td>0.999183</td>\n",
       "      <td>0.999183</td>\n",
       "      <td>0.999183</td>\n",
       "    </tr>\n",
       "    <tr>\n",
       "      <th>19</th>\n",
       "      <td>1</td>\n",
       "      <td>0.999782</td>\n",
       "      <td>0.999782</td>\n",
       "      <td>0.999782</td>\n",
       "    </tr>\n",
       "    <tr>\n",
       "      <th>20</th>\n",
       "      <td>1</td>\n",
       "      <td>0.999728</td>\n",
       "      <td>0.999728</td>\n",
       "      <td>0.999728</td>\n",
       "    </tr>\n",
       "    <tr>\n",
       "      <th>21</th>\n",
       "      <td>1</td>\n",
       "      <td>0.999891</td>\n",
       "      <td>0.999891</td>\n",
       "      <td>0.999891</td>\n",
       "    </tr>\n",
       "    <tr>\n",
       "      <th>22</th>\n",
       "      <td>1</td>\n",
       "      <td>0.999891</td>\n",
       "      <td>0.999891</td>\n",
       "      <td>0.999891</td>\n",
       "    </tr>\n",
       "    <tr>\n",
       "      <th>23</th>\n",
       "      <td>1</td>\n",
       "      <td>0.999946</td>\n",
       "      <td>0.999946</td>\n",
       "      <td>0.999946</td>\n",
       "    </tr>\n",
       "    <tr>\n",
       "      <th>24</th>\n",
       "      <td>1</td>\n",
       "      <td>1.000000</td>\n",
       "      <td>1.000000</td>\n",
       "      <td>1.000000</td>\n",
       "    </tr>\n",
       "    <tr>\n",
       "      <th>25</th>\n",
       "      <td>1</td>\n",
       "      <td>0.999891</td>\n",
       "      <td>0.999891</td>\n",
       "      <td>0.999891</td>\n",
       "    </tr>\n",
       "    <tr>\n",
       "      <th>26</th>\n",
       "      <td>1</td>\n",
       "      <td>0.999946</td>\n",
       "      <td>0.999946</td>\n",
       "      <td>0.999946</td>\n",
       "    </tr>\n",
       "    <tr>\n",
       "      <th>27</th>\n",
       "      <td>1</td>\n",
       "      <td>0.999837</td>\n",
       "      <td>0.999837</td>\n",
       "      <td>0.999837</td>\n",
       "    </tr>\n",
       "    <tr>\n",
       "      <th>28</th>\n",
       "      <td>1</td>\n",
       "      <td>0.999673</td>\n",
       "      <td>0.999673</td>\n",
       "      <td>0.999673</td>\n",
       "    </tr>\n",
       "    <tr>\n",
       "      <th>29</th>\n",
       "      <td>1</td>\n",
       "      <td>0.999728</td>\n",
       "      <td>0.999728</td>\n",
       "      <td>0.999728</td>\n",
       "    </tr>\n",
       "    <tr>\n",
       "      <th>30</th>\n",
       "      <td>1</td>\n",
       "      <td>0.999782</td>\n",
       "      <td>0.999782</td>\n",
       "      <td>0.999782</td>\n",
       "    </tr>\n",
       "    <tr>\n",
       "      <th>31</th>\n",
       "      <td>1</td>\n",
       "      <td>0.999946</td>\n",
       "      <td>0.999946</td>\n",
       "      <td>0.999946</td>\n",
       "    </tr>\n",
       "    <tr>\n",
       "      <th>32</th>\n",
       "      <td>1</td>\n",
       "      <td>0.999619</td>\n",
       "      <td>0.999619</td>\n",
       "      <td>0.999619</td>\n",
       "    </tr>\n",
       "    <tr>\n",
       "      <th>33</th>\n",
       "      <td>1</td>\n",
       "      <td>0.999782</td>\n",
       "      <td>0.999782</td>\n",
       "      <td>0.999782</td>\n",
       "    </tr>\n",
       "    <tr>\n",
       "      <th>34</th>\n",
       "      <td>1</td>\n",
       "      <td>1.000000</td>\n",
       "      <td>1.000000</td>\n",
       "      <td>1.000000</td>\n",
       "    </tr>\n",
       "    <tr>\n",
       "      <th>35</th>\n",
       "      <td>1</td>\n",
       "      <td>0.999183</td>\n",
       "      <td>0.999183</td>\n",
       "      <td>0.999183</td>\n",
       "    </tr>\n",
       "  </tbody>\n",
       "</table>\n",
       "</div>"
      ],
      "text/plain": [
       "    Precision    Recall  F1-score  Accuracy\n",
       "0           1  0.998311  0.998311  0.998311\n",
       "1           1  0.999401  0.999401  0.999401\n",
       "2           1  1.000000  1.000000  1.000000\n",
       "3           1  0.999019  0.999019  0.999019\n",
       "4           1  0.999564  0.999564  0.999564\n",
       "5           1  0.999728  0.999728  0.999728\n",
       "6           1  0.999837  0.999837  0.999837\n",
       "7           1  0.999673  0.999673  0.999673\n",
       "8           1  0.999891  0.999891  0.999891\n",
       "9           1  1.000000  1.000000  1.000000\n",
       "10          1  0.999891  0.999891  0.999891\n",
       "11          1  0.999891  0.999891  0.999891\n",
       "12          1  0.999946  0.999946  0.999946\n",
       "13          1  1.000000  1.000000  1.000000\n",
       "14          1  0.999946  0.999946  0.999946\n",
       "15          1  0.999891  0.999891  0.999891\n",
       "16          1  0.999837  0.999837  0.999837\n",
       "17          1  0.999891  0.999891  0.999891\n",
       "18          1  0.999183  0.999183  0.999183\n",
       "19          1  0.999782  0.999782  0.999782\n",
       "20          1  0.999728  0.999728  0.999728\n",
       "21          1  0.999891  0.999891  0.999891\n",
       "22          1  0.999891  0.999891  0.999891\n",
       "23          1  0.999946  0.999946  0.999946\n",
       "24          1  1.000000  1.000000  1.000000\n",
       "25          1  0.999891  0.999891  0.999891\n",
       "26          1  0.999946  0.999946  0.999946\n",
       "27          1  0.999837  0.999837  0.999837\n",
       "28          1  0.999673  0.999673  0.999673\n",
       "29          1  0.999728  0.999728  0.999728\n",
       "30          1  0.999782  0.999782  0.999782\n",
       "31          1  0.999946  0.999946  0.999946\n",
       "32          1  0.999619  0.999619  0.999619\n",
       "33          1  0.999782  0.999782  0.999782\n",
       "34          1  1.000000  1.000000  1.000000\n",
       "35          1  0.999183  0.999183  0.999183"
      ]
     },
     "execution_count": 21,
     "metadata": {},
     "output_type": "execute_result"
    }
   ],
   "source": [
    "train_results = []\n",
    "for i,column in enumerate(y_train.columns):\n",
    "    result = get_score(y_train.loc[:,column].values,y_train_pred[:,i])\n",
    "    train_results.append(result)\n",
    "train_results_df = pd.DataFrame(train_results)\n",
    "train_results_df    "
   ]
  },
  {
   "cell_type": "code",
   "execution_count": 22,
   "metadata": {},
   "outputs": [
    {
     "data": {
      "text/html": [
       "<div>\n",
       "<style scoped>\n",
       "    .dataframe tbody tr th:only-of-type {\n",
       "        vertical-align: middle;\n",
       "    }\n",
       "\n",
       "    .dataframe tbody tr th {\n",
       "        vertical-align: top;\n",
       "    }\n",
       "\n",
       "    .dataframe thead th {\n",
       "        text-align: right;\n",
       "    }\n",
       "</style>\n",
       "<table border=\"1\" class=\"dataframe\">\n",
       "  <thead>\n",
       "    <tr style=\"text-align: right;\">\n",
       "      <th></th>\n",
       "      <th>Precision</th>\n",
       "      <th>Recall</th>\n",
       "      <th>F1-score</th>\n",
       "      <th>Accuracy</th>\n",
       "    </tr>\n",
       "  </thead>\n",
       "  <tbody>\n",
       "    <tr>\n",
       "      <th>0</th>\n",
       "      <td>1</td>\n",
       "      <td>0.827845</td>\n",
       "      <td>0.827845</td>\n",
       "      <td>0.827845</td>\n",
       "    </tr>\n",
       "    <tr>\n",
       "      <th>1</th>\n",
       "      <td>1</td>\n",
       "      <td>0.903751</td>\n",
       "      <td>0.903751</td>\n",
       "      <td>0.903751</td>\n",
       "    </tr>\n",
       "    <tr>\n",
       "      <th>2</th>\n",
       "      <td>1</td>\n",
       "      <td>0.995677</td>\n",
       "      <td>0.995677</td>\n",
       "      <td>0.995677</td>\n",
       "    </tr>\n",
       "    <tr>\n",
       "      <th>3</th>\n",
       "      <td>1</td>\n",
       "      <td>0.767324</td>\n",
       "      <td>0.767324</td>\n",
       "      <td>0.767324</td>\n",
       "    </tr>\n",
       "    <tr>\n",
       "      <th>4</th>\n",
       "      <td>1</td>\n",
       "      <td>0.919898</td>\n",
       "      <td>0.919898</td>\n",
       "      <td>0.919898</td>\n",
       "    </tr>\n",
       "    <tr>\n",
       "      <th>5</th>\n",
       "      <td>1</td>\n",
       "      <td>0.950286</td>\n",
       "      <td>0.950286</td>\n",
       "      <td>0.950286</td>\n",
       "    </tr>\n",
       "    <tr>\n",
       "      <th>6</th>\n",
       "      <td>1</td>\n",
       "      <td>0.975461</td>\n",
       "      <td>0.975461</td>\n",
       "      <td>0.975461</td>\n",
       "    </tr>\n",
       "    <tr>\n",
       "      <th>7</th>\n",
       "      <td>1</td>\n",
       "      <td>0.982835</td>\n",
       "      <td>0.982835</td>\n",
       "      <td>0.982835</td>\n",
       "    </tr>\n",
       "    <tr>\n",
       "      <th>8</th>\n",
       "      <td>1</td>\n",
       "      <td>0.967196</td>\n",
       "      <td>0.967196</td>\n",
       "      <td>0.967196</td>\n",
       "    </tr>\n",
       "    <tr>\n",
       "      <th>9</th>\n",
       "      <td>1</td>\n",
       "      <td>1.000000</td>\n",
       "      <td>1.000000</td>\n",
       "      <td>1.000000</td>\n",
       "    </tr>\n",
       "    <tr>\n",
       "      <th>10</th>\n",
       "      <td>1</td>\n",
       "      <td>0.951939</td>\n",
       "      <td>0.951939</td>\n",
       "      <td>0.951939</td>\n",
       "    </tr>\n",
       "    <tr>\n",
       "      <th>11</th>\n",
       "      <td>1</td>\n",
       "      <td>0.934266</td>\n",
       "      <td>0.934266</td>\n",
       "      <td>0.934266</td>\n",
       "    </tr>\n",
       "    <tr>\n",
       "      <th>12</th>\n",
       "      <td>1</td>\n",
       "      <td>0.928036</td>\n",
       "      <td>0.928036</td>\n",
       "      <td>0.928036</td>\n",
       "    </tr>\n",
       "    <tr>\n",
       "      <th>13</th>\n",
       "      <td>1</td>\n",
       "      <td>0.986523</td>\n",
       "      <td>0.986523</td>\n",
       "      <td>0.986523</td>\n",
       "    </tr>\n",
       "    <tr>\n",
       "      <th>14</th>\n",
       "      <td>1</td>\n",
       "      <td>0.978258</td>\n",
       "      <td>0.978258</td>\n",
       "      <td>0.978258</td>\n",
       "    </tr>\n",
       "    <tr>\n",
       "      <th>15</th>\n",
       "      <td>1</td>\n",
       "      <td>0.989828</td>\n",
       "      <td>0.989828</td>\n",
       "      <td>0.989828</td>\n",
       "    </tr>\n",
       "    <tr>\n",
       "      <th>16</th>\n",
       "      <td>1</td>\n",
       "      <td>0.968086</td>\n",
       "      <td>0.968086</td>\n",
       "      <td>0.968086</td>\n",
       "    </tr>\n",
       "    <tr>\n",
       "      <th>17</th>\n",
       "      <td>1</td>\n",
       "      <td>0.954736</td>\n",
       "      <td>0.954736</td>\n",
       "      <td>0.954736</td>\n",
       "    </tr>\n",
       "    <tr>\n",
       "      <th>18</th>\n",
       "      <td>1</td>\n",
       "      <td>0.876669</td>\n",
       "      <td>0.876669</td>\n",
       "      <td>0.876669</td>\n",
       "    </tr>\n",
       "    <tr>\n",
       "      <th>19</th>\n",
       "      <td>1</td>\n",
       "      <td>0.938970</td>\n",
       "      <td>0.938970</td>\n",
       "      <td>0.938970</td>\n",
       "    </tr>\n",
       "    <tr>\n",
       "      <th>20</th>\n",
       "      <td>1</td>\n",
       "      <td>0.955753</td>\n",
       "      <td>0.955753</td>\n",
       "      <td>0.955753</td>\n",
       "    </tr>\n",
       "    <tr>\n",
       "      <th>21</th>\n",
       "      <td>1</td>\n",
       "      <td>0.951176</td>\n",
       "      <td>0.951176</td>\n",
       "      <td>0.951176</td>\n",
       "    </tr>\n",
       "    <tr>\n",
       "      <th>22</th>\n",
       "      <td>1</td>\n",
       "      <td>0.980801</td>\n",
       "      <td>0.980801</td>\n",
       "      <td>0.980801</td>\n",
       "    </tr>\n",
       "    <tr>\n",
       "      <th>23</th>\n",
       "      <td>1</td>\n",
       "      <td>0.993897</td>\n",
       "      <td>0.993897</td>\n",
       "      <td>0.993897</td>\n",
       "    </tr>\n",
       "    <tr>\n",
       "      <th>24</th>\n",
       "      <td>1</td>\n",
       "      <td>0.989701</td>\n",
       "      <td>0.989701</td>\n",
       "      <td>0.989701</td>\n",
       "    </tr>\n",
       "    <tr>\n",
       "      <th>25</th>\n",
       "      <td>1</td>\n",
       "      <td>0.995677</td>\n",
       "      <td>0.995677</td>\n",
       "      <td>0.995677</td>\n",
       "    </tr>\n",
       "    <tr>\n",
       "      <th>26</th>\n",
       "      <td>1</td>\n",
       "      <td>0.988048</td>\n",
       "      <td>0.988048</td>\n",
       "      <td>0.988048</td>\n",
       "    </tr>\n",
       "    <tr>\n",
       "      <th>27</th>\n",
       "      <td>1</td>\n",
       "      <td>0.957152</td>\n",
       "      <td>0.957152</td>\n",
       "      <td>0.957152</td>\n",
       "    </tr>\n",
       "    <tr>\n",
       "      <th>28</th>\n",
       "      <td>1</td>\n",
       "      <td>0.860903</td>\n",
       "      <td>0.860903</td>\n",
       "      <td>0.860903</td>\n",
       "    </tr>\n",
       "    <tr>\n",
       "      <th>29</th>\n",
       "      <td>1</td>\n",
       "      <td>0.938589</td>\n",
       "      <td>0.938589</td>\n",
       "      <td>0.938589</td>\n",
       "    </tr>\n",
       "    <tr>\n",
       "      <th>30</th>\n",
       "      <td>1</td>\n",
       "      <td>0.926128</td>\n",
       "      <td>0.926128</td>\n",
       "      <td>0.926128</td>\n",
       "    </tr>\n",
       "    <tr>\n",
       "      <th>31</th>\n",
       "      <td>1</td>\n",
       "      <td>0.988938</td>\n",
       "      <td>0.988938</td>\n",
       "      <td>0.988938</td>\n",
       "    </tr>\n",
       "    <tr>\n",
       "      <th>32</th>\n",
       "      <td>1</td>\n",
       "      <td>0.954990</td>\n",
       "      <td>0.954990</td>\n",
       "      <td>0.954990</td>\n",
       "    </tr>\n",
       "    <tr>\n",
       "      <th>33</th>\n",
       "      <td>1</td>\n",
       "      <td>0.981310</td>\n",
       "      <td>0.981310</td>\n",
       "      <td>0.981310</td>\n",
       "    </tr>\n",
       "    <tr>\n",
       "      <th>34</th>\n",
       "      <td>1</td>\n",
       "      <td>0.947489</td>\n",
       "      <td>0.947489</td>\n",
       "      <td>0.947489</td>\n",
       "    </tr>\n",
       "    <tr>\n",
       "      <th>35</th>\n",
       "      <td>1</td>\n",
       "      <td>0.862174</td>\n",
       "      <td>0.862174</td>\n",
       "      <td>0.862174</td>\n",
       "    </tr>\n",
       "  </tbody>\n",
       "</table>\n",
       "</div>"
      ],
      "text/plain": [
       "    Precision    Recall  F1-score  Accuracy\n",
       "0           1  0.827845  0.827845  0.827845\n",
       "1           1  0.903751  0.903751  0.903751\n",
       "2           1  0.995677  0.995677  0.995677\n",
       "3           1  0.767324  0.767324  0.767324\n",
       "4           1  0.919898  0.919898  0.919898\n",
       "5           1  0.950286  0.950286  0.950286\n",
       "6           1  0.975461  0.975461  0.975461\n",
       "7           1  0.982835  0.982835  0.982835\n",
       "8           1  0.967196  0.967196  0.967196\n",
       "9           1  1.000000  1.000000  1.000000\n",
       "10          1  0.951939  0.951939  0.951939\n",
       "11          1  0.934266  0.934266  0.934266\n",
       "12          1  0.928036  0.928036  0.928036\n",
       "13          1  0.986523  0.986523  0.986523\n",
       "14          1  0.978258  0.978258  0.978258\n",
       "15          1  0.989828  0.989828  0.989828\n",
       "16          1  0.968086  0.968086  0.968086\n",
       "17          1  0.954736  0.954736  0.954736\n",
       "18          1  0.876669  0.876669  0.876669\n",
       "19          1  0.938970  0.938970  0.938970\n",
       "20          1  0.955753  0.955753  0.955753\n",
       "21          1  0.951176  0.951176  0.951176\n",
       "22          1  0.980801  0.980801  0.980801\n",
       "23          1  0.993897  0.993897  0.993897\n",
       "24          1  0.989701  0.989701  0.989701\n",
       "25          1  0.995677  0.995677  0.995677\n",
       "26          1  0.988048  0.988048  0.988048\n",
       "27          1  0.957152  0.957152  0.957152\n",
       "28          1  0.860903  0.860903  0.860903\n",
       "29          1  0.938589  0.938589  0.938589\n",
       "30          1  0.926128  0.926128  0.926128\n",
       "31          1  0.988938  0.988938  0.988938\n",
       "32          1  0.954990  0.954990  0.954990\n",
       "33          1  0.981310  0.981310  0.981310\n",
       "34          1  0.947489  0.947489  0.947489\n",
       "35          1  0.862174  0.862174  0.862174"
      ]
     },
     "execution_count": 22,
     "metadata": {},
     "output_type": "execute_result"
    }
   ],
   "source": [
    "test_results = []\n",
    "for i,column in enumerate(y_test.columns):\n",
    "    result = get_score(y_test.loc[:,column].values,y_test_pred[:,i])\n",
    "    test_results.append(result)\n",
    "test_results_df = pd.DataFrame(test_results)\n",
    "test_results_df"
   ]
  },
  {
   "cell_type": "code",
   "execution_count": 23,
   "metadata": {},
   "outputs": [
    {
     "data": {
      "text/plain": [
       "0.9997366174413744"
      ]
     },
     "execution_count": 23,
     "metadata": {},
     "output_type": "execute_result"
    }
   ],
   "source": [
    "train_results_df['F1-score'].mean()"
   ]
  },
  {
   "cell_type": "code",
   "execution_count": 24,
   "metadata": {},
   "outputs": [
    {
     "data": {
      "text/plain": [
       "0.9463975418520872"
      ]
     },
     "execution_count": 24,
     "metadata": {},
     "output_type": "execute_result"
    }
   ],
   "source": [
    "test_results_df['F1-score'].mean()"
   ]
  },
  {
   "cell_type": "markdown",
   "metadata": {},
   "source": [
    "### 6. Improve your model\n",
    "Use grid search to find better parameters. "
   ]
  },
  {
   "cell_type": "code",
   "execution_count": 29,
   "metadata": {},
   "outputs": [],
   "source": [
    "def custom_multiclf_score(y_true,y_pred):\n",
    "    list_results = []\n",
    "    for i,column in enumerate(y_true.columns):\n",
    "        result = f1_score(y_true.loc[:,column].values,y_pred[:,i],average='micro')\n",
    "        list_results.append(result)\n",
    "    list_results = np.array(list_results)\n",
    "    return list_results.mean()"
   ]
  },
  {
   "cell_type": "code",
   "execution_count": 30,
   "metadata": {},
   "outputs": [],
   "source": [
    "from sklearn.metrics import make_scorer\n",
    "score = make_scorer(custom_multiclf_score)"
   ]
  },
  {
   "cell_type": "code",
   "execution_count": 32,
   "metadata": {},
   "outputs": [],
   "source": [
    "parameters = {\n",
    "    'model__max_depth':[2,4,None],\n",
    "    'model__max_features':['sqrt','log2',None],\n",
    "    'model__criterion':['gini','entropy'],\n",
    "    'model__min_samples_leaf':[1,2,3]\n",
    "}\n",
    "\n",
    "cv = GridSearchCV(\n",
    "    estimator=pipeline,\n",
    "    param_grid=parameters,\n",
    "    scoring=score,\n",
    "#     n_jobs=-1, \n",
    "    cv=5, \n",
    "    refit=True, \n",
    "    return_train_score=True,\n",
    "    verbose=10\n",
    ")"
   ]
  },
  {
   "cell_type": "code",
   "execution_count": null,
   "metadata": {
    "scrolled": true
   },
   "outputs": [
    {
     "name": "stdout",
     "output_type": "stream",
     "text": [
      "Fitting 5 folds for each of 54 candidates, totalling 270 fits\n",
      "[CV 1/5; 1/54] START model__criterion=gini, model__max_depth=2, model__max_features=sqrt, model__min_samples_leaf=1\n"
     ]
    },
    {
     "name": "stderr",
     "output_type": "stream",
     "text": [
      "/Users/abdullahghifari/anaconda3/lib/python3.10/site-packages/sklearn/feature_extraction/text.py:528: UserWarning: The parameter 'token_pattern' will not be used since 'tokenizer' is not None'\n",
      "  warnings.warn(\n"
     ]
    },
    {
     "name": "stdout",
     "output_type": "stream",
     "text": [
      "[CV 1/5; 1/54] END model__criterion=gini, model__max_depth=2, model__max_features=sqrt, model__min_samples_leaf=1;, score=(train=0.926, test=0.927) total time=  27.0s\n",
      "[CV 2/5; 1/54] START model__criterion=gini, model__max_depth=2, model__max_features=sqrt, model__min_samples_leaf=1\n"
     ]
    },
    {
     "name": "stderr",
     "output_type": "stream",
     "text": [
      "/Users/abdullahghifari/anaconda3/lib/python3.10/site-packages/sklearn/feature_extraction/text.py:528: UserWarning: The parameter 'token_pattern' will not be used since 'tokenizer' is not None'\n",
      "  warnings.warn(\n"
     ]
    },
    {
     "name": "stdout",
     "output_type": "stream",
     "text": [
      "[CV 2/5; 1/54] END model__criterion=gini, model__max_depth=2, model__max_features=sqrt, model__min_samples_leaf=1;, score=(train=0.927, test=0.925) total time=  27.6s\n",
      "[CV 3/5; 1/54] START model__criterion=gini, model__max_depth=2, model__max_features=sqrt, model__min_samples_leaf=1\n"
     ]
    },
    {
     "name": "stderr",
     "output_type": "stream",
     "text": [
      "/Users/abdullahghifari/anaconda3/lib/python3.10/site-packages/sklearn/feature_extraction/text.py:528: UserWarning: The parameter 'token_pattern' will not be used since 'tokenizer' is not None'\n",
      "  warnings.warn(\n"
     ]
    },
    {
     "name": "stdout",
     "output_type": "stream",
     "text": [
      "[CV 3/5; 1/54] END model__criterion=gini, model__max_depth=2, model__max_features=sqrt, model__min_samples_leaf=1;, score=(train=0.926, test=0.927) total time=  27.4s\n",
      "[CV 4/5; 1/54] START model__criterion=gini, model__max_depth=2, model__max_features=sqrt, model__min_samples_leaf=1\n"
     ]
    },
    {
     "name": "stderr",
     "output_type": "stream",
     "text": [
      "/Users/abdullahghifari/anaconda3/lib/python3.10/site-packages/sklearn/feature_extraction/text.py:528: UserWarning: The parameter 'token_pattern' will not be used since 'tokenizer' is not None'\n",
      "  warnings.warn(\n"
     ]
    },
    {
     "name": "stdout",
     "output_type": "stream",
     "text": [
      "[CV 4/5; 1/54] END model__criterion=gini, model__max_depth=2, model__max_features=sqrt, model__min_samples_leaf=1;, score=(train=0.926, test=0.925) total time=  28.4s\n",
      "[CV 5/5; 1/54] START model__criterion=gini, model__max_depth=2, model__max_features=sqrt, model__min_samples_leaf=1\n"
     ]
    },
    {
     "name": "stderr",
     "output_type": "stream",
     "text": [
      "/Users/abdullahghifari/anaconda3/lib/python3.10/site-packages/sklearn/feature_extraction/text.py:528: UserWarning: The parameter 'token_pattern' will not be used since 'tokenizer' is not None'\n",
      "  warnings.warn(\n"
     ]
    },
    {
     "name": "stdout",
     "output_type": "stream",
     "text": [
      "[CV 5/5; 1/54] END model__criterion=gini, model__max_depth=2, model__max_features=sqrt, model__min_samples_leaf=1;, score=(train=0.926, test=0.926) total time=  27.4s\n",
      "[CV 1/5; 2/54] START model__criterion=gini, model__max_depth=2, model__max_features=sqrt, model__min_samples_leaf=2\n"
     ]
    },
    {
     "name": "stderr",
     "output_type": "stream",
     "text": [
      "/Users/abdullahghifari/anaconda3/lib/python3.10/site-packages/sklearn/feature_extraction/text.py:528: UserWarning: The parameter 'token_pattern' will not be used since 'tokenizer' is not None'\n",
      "  warnings.warn(\n"
     ]
    },
    {
     "name": "stdout",
     "output_type": "stream",
     "text": [
      "[CV 1/5; 2/54] END model__criterion=gini, model__max_depth=2, model__max_features=sqrt, model__min_samples_leaf=2;, score=(train=0.926, test=0.927) total time=  27.6s\n",
      "[CV 2/5; 2/54] START model__criterion=gini, model__max_depth=2, model__max_features=sqrt, model__min_samples_leaf=2\n"
     ]
    },
    {
     "name": "stderr",
     "output_type": "stream",
     "text": [
      "/Users/abdullahghifari/anaconda3/lib/python3.10/site-packages/sklearn/feature_extraction/text.py:528: UserWarning: The parameter 'token_pattern' will not be used since 'tokenizer' is not None'\n",
      "  warnings.warn(\n"
     ]
    },
    {
     "name": "stdout",
     "output_type": "stream",
     "text": [
      "[CV 2/5; 2/54] END model__criterion=gini, model__max_depth=2, model__max_features=sqrt, model__min_samples_leaf=2;, score=(train=0.927, test=0.925) total time=  27.5s\n",
      "[CV 3/5; 2/54] START model__criterion=gini, model__max_depth=2, model__max_features=sqrt, model__min_samples_leaf=2\n"
     ]
    },
    {
     "name": "stderr",
     "output_type": "stream",
     "text": [
      "/Users/abdullahghifari/anaconda3/lib/python3.10/site-packages/sklearn/feature_extraction/text.py:528: UserWarning: The parameter 'token_pattern' will not be used since 'tokenizer' is not None'\n",
      "  warnings.warn(\n"
     ]
    },
    {
     "name": "stdout",
     "output_type": "stream",
     "text": [
      "[CV 3/5; 2/54] END model__criterion=gini, model__max_depth=2, model__max_features=sqrt, model__min_samples_leaf=2;, score=(train=0.926, test=0.927) total time=  27.5s\n",
      "[CV 4/5; 2/54] START model__criterion=gini, model__max_depth=2, model__max_features=sqrt, model__min_samples_leaf=2\n"
     ]
    },
    {
     "name": "stderr",
     "output_type": "stream",
     "text": [
      "/Users/abdullahghifari/anaconda3/lib/python3.10/site-packages/sklearn/feature_extraction/text.py:528: UserWarning: The parameter 'token_pattern' will not be used since 'tokenizer' is not None'\n",
      "  warnings.warn(\n"
     ]
    },
    {
     "name": "stdout",
     "output_type": "stream",
     "text": [
      "[CV 4/5; 2/54] END model__criterion=gini, model__max_depth=2, model__max_features=sqrt, model__min_samples_leaf=2;, score=(train=0.926, test=0.925) total time=  27.2s\n",
      "[CV 5/5; 2/54] START model__criterion=gini, model__max_depth=2, model__max_features=sqrt, model__min_samples_leaf=2\n"
     ]
    },
    {
     "name": "stderr",
     "output_type": "stream",
     "text": [
      "/Users/abdullahghifari/anaconda3/lib/python3.10/site-packages/sklearn/feature_extraction/text.py:528: UserWarning: The parameter 'token_pattern' will not be used since 'tokenizer' is not None'\n",
      "  warnings.warn(\n"
     ]
    },
    {
     "name": "stdout",
     "output_type": "stream",
     "text": [
      "[CV 5/5; 2/54] END model__criterion=gini, model__max_depth=2, model__max_features=sqrt, model__min_samples_leaf=2;, score=(train=0.926, test=0.926) total time=  27.5s\n",
      "[CV 1/5; 3/54] START model__criterion=gini, model__max_depth=2, model__max_features=sqrt, model__min_samples_leaf=3\n"
     ]
    },
    {
     "name": "stderr",
     "output_type": "stream",
     "text": [
      "/Users/abdullahghifari/anaconda3/lib/python3.10/site-packages/sklearn/feature_extraction/text.py:528: UserWarning: The parameter 'token_pattern' will not be used since 'tokenizer' is not None'\n",
      "  warnings.warn(\n"
     ]
    },
    {
     "name": "stdout",
     "output_type": "stream",
     "text": [
      "[CV 1/5; 3/54] END model__criterion=gini, model__max_depth=2, model__max_features=sqrt, model__min_samples_leaf=3;, score=(train=0.926, test=0.927) total time=  27.7s\n",
      "[CV 2/5; 3/54] START model__criterion=gini, model__max_depth=2, model__max_features=sqrt, model__min_samples_leaf=3\n"
     ]
    },
    {
     "name": "stderr",
     "output_type": "stream",
     "text": [
      "/Users/abdullahghifari/anaconda3/lib/python3.10/site-packages/sklearn/feature_extraction/text.py:528: UserWarning: The parameter 'token_pattern' will not be used since 'tokenizer' is not None'\n",
      "  warnings.warn(\n"
     ]
    },
    {
     "name": "stdout",
     "output_type": "stream",
     "text": [
      "[CV 2/5; 3/54] END model__criterion=gini, model__max_depth=2, model__max_features=sqrt, model__min_samples_leaf=3;, score=(train=0.927, test=0.925) total time=  27.5s\n",
      "[CV 3/5; 3/54] START model__criterion=gini, model__max_depth=2, model__max_features=sqrt, model__min_samples_leaf=3\n"
     ]
    },
    {
     "name": "stderr",
     "output_type": "stream",
     "text": [
      "/Users/abdullahghifari/anaconda3/lib/python3.10/site-packages/sklearn/feature_extraction/text.py:528: UserWarning: The parameter 'token_pattern' will not be used since 'tokenizer' is not None'\n",
      "  warnings.warn(\n"
     ]
    },
    {
     "name": "stdout",
     "output_type": "stream",
     "text": [
      "[CV 3/5; 3/54] END model__criterion=gini, model__max_depth=2, model__max_features=sqrt, model__min_samples_leaf=3;, score=(train=0.926, test=0.927) total time=  27.2s\n",
      "[CV 4/5; 3/54] START model__criterion=gini, model__max_depth=2, model__max_features=sqrt, model__min_samples_leaf=3\n"
     ]
    },
    {
     "name": "stderr",
     "output_type": "stream",
     "text": [
      "/Users/abdullahghifari/anaconda3/lib/python3.10/site-packages/sklearn/feature_extraction/text.py:528: UserWarning: The parameter 'token_pattern' will not be used since 'tokenizer' is not None'\n",
      "  warnings.warn(\n"
     ]
    },
    {
     "name": "stdout",
     "output_type": "stream",
     "text": [
      "[CV 4/5; 3/54] END model__criterion=gini, model__max_depth=2, model__max_features=sqrt, model__min_samples_leaf=3;, score=(train=0.926, test=0.925) total time=  27.6s\n",
      "[CV 5/5; 3/54] START model__criterion=gini, model__max_depth=2, model__max_features=sqrt, model__min_samples_leaf=3\n"
     ]
    },
    {
     "name": "stderr",
     "output_type": "stream",
     "text": [
      "/Users/abdullahghifari/anaconda3/lib/python3.10/site-packages/sklearn/feature_extraction/text.py:528: UserWarning: The parameter 'token_pattern' will not be used since 'tokenizer' is not None'\n",
      "  warnings.warn(\n"
     ]
    },
    {
     "name": "stdout",
     "output_type": "stream",
     "text": [
      "[CV 5/5; 3/54] END model__criterion=gini, model__max_depth=2, model__max_features=sqrt, model__min_samples_leaf=3;, score=(train=0.926, test=0.926) total time=  27.8s\n",
      "[CV 1/5; 4/54] START model__criterion=gini, model__max_depth=2, model__max_features=log2, model__min_samples_leaf=1\n"
     ]
    },
    {
     "name": "stderr",
     "output_type": "stream",
     "text": [
      "/Users/abdullahghifari/anaconda3/lib/python3.10/site-packages/sklearn/feature_extraction/text.py:528: UserWarning: The parameter 'token_pattern' will not be used since 'tokenizer' is not None'\n",
      "  warnings.warn(\n"
     ]
    },
    {
     "name": "stdout",
     "output_type": "stream",
     "text": [
      "[CV 1/5; 4/54] END model__criterion=gini, model__max_depth=2, model__max_features=log2, model__min_samples_leaf=1;, score=(train=0.926, test=0.927) total time=  27.6s\n",
      "[CV 2/5; 4/54] START model__criterion=gini, model__max_depth=2, model__max_features=log2, model__min_samples_leaf=1\n"
     ]
    },
    {
     "name": "stderr",
     "output_type": "stream",
     "text": [
      "/Users/abdullahghifari/anaconda3/lib/python3.10/site-packages/sklearn/feature_extraction/text.py:528: UserWarning: The parameter 'token_pattern' will not be used since 'tokenizer' is not None'\n",
      "  warnings.warn(\n"
     ]
    },
    {
     "name": "stdout",
     "output_type": "stream",
     "text": [
      "[CV 2/5; 4/54] END model__criterion=gini, model__max_depth=2, model__max_features=log2, model__min_samples_leaf=1;, score=(train=0.927, test=0.925) total time=  27.7s\n",
      "[CV 3/5; 4/54] START model__criterion=gini, model__max_depth=2, model__max_features=log2, model__min_samples_leaf=1\n"
     ]
    },
    {
     "name": "stderr",
     "output_type": "stream",
     "text": [
      "/Users/abdullahghifari/anaconda3/lib/python3.10/site-packages/sklearn/feature_extraction/text.py:528: UserWarning: The parameter 'token_pattern' will not be used since 'tokenizer' is not None'\n",
      "  warnings.warn(\n"
     ]
    },
    {
     "name": "stdout",
     "output_type": "stream",
     "text": [
      "[CV 3/5; 4/54] END model__criterion=gini, model__max_depth=2, model__max_features=log2, model__min_samples_leaf=1;, score=(train=0.926, test=0.927) total time=  27.6s\n",
      "[CV 4/5; 4/54] START model__criterion=gini, model__max_depth=2, model__max_features=log2, model__min_samples_leaf=1\n"
     ]
    },
    {
     "name": "stderr",
     "output_type": "stream",
     "text": [
      "/Users/abdullahghifari/anaconda3/lib/python3.10/site-packages/sklearn/feature_extraction/text.py:528: UserWarning: The parameter 'token_pattern' will not be used since 'tokenizer' is not None'\n",
      "  warnings.warn(\n"
     ]
    },
    {
     "name": "stdout",
     "output_type": "stream",
     "text": [
      "[CV 4/5; 4/54] END model__criterion=gini, model__max_depth=2, model__max_features=log2, model__min_samples_leaf=1;, score=(train=0.926, test=0.925) total time=  27.5s\n",
      "[CV 5/5; 4/54] START model__criterion=gini, model__max_depth=2, model__max_features=log2, model__min_samples_leaf=1\n"
     ]
    },
    {
     "name": "stderr",
     "output_type": "stream",
     "text": [
      "/Users/abdullahghifari/anaconda3/lib/python3.10/site-packages/sklearn/feature_extraction/text.py:528: UserWarning: The parameter 'token_pattern' will not be used since 'tokenizer' is not None'\n",
      "  warnings.warn(\n"
     ]
    },
    {
     "name": "stdout",
     "output_type": "stream",
     "text": [
      "[CV 5/5; 4/54] END model__criterion=gini, model__max_depth=2, model__max_features=log2, model__min_samples_leaf=1;, score=(train=0.926, test=0.926) total time=  27.3s\n",
      "[CV 1/5; 5/54] START model__criterion=gini, model__max_depth=2, model__max_features=log2, model__min_samples_leaf=2\n"
     ]
    },
    {
     "name": "stderr",
     "output_type": "stream",
     "text": [
      "/Users/abdullahghifari/anaconda3/lib/python3.10/site-packages/sklearn/feature_extraction/text.py:528: UserWarning: The parameter 'token_pattern' will not be used since 'tokenizer' is not None'\n",
      "  warnings.warn(\n"
     ]
    },
    {
     "name": "stdout",
     "output_type": "stream",
     "text": [
      "[CV 1/5; 5/54] END model__criterion=gini, model__max_depth=2, model__max_features=log2, model__min_samples_leaf=2;, score=(train=0.926, test=0.927) total time=  27.7s\n",
      "[CV 2/5; 5/54] START model__criterion=gini, model__max_depth=2, model__max_features=log2, model__min_samples_leaf=2\n"
     ]
    },
    {
     "name": "stderr",
     "output_type": "stream",
     "text": [
      "/Users/abdullahghifari/anaconda3/lib/python3.10/site-packages/sklearn/feature_extraction/text.py:528: UserWarning: The parameter 'token_pattern' will not be used since 'tokenizer' is not None'\n",
      "  warnings.warn(\n"
     ]
    },
    {
     "name": "stdout",
     "output_type": "stream",
     "text": [
      "[CV 2/5; 5/54] END model__criterion=gini, model__max_depth=2, model__max_features=log2, model__min_samples_leaf=2;, score=(train=0.927, test=0.925) total time=  27.6s\n",
      "[CV 3/5; 5/54] START model__criterion=gini, model__max_depth=2, model__max_features=log2, model__min_samples_leaf=2\n"
     ]
    },
    {
     "name": "stderr",
     "output_type": "stream",
     "text": [
      "/Users/abdullahghifari/anaconda3/lib/python3.10/site-packages/sklearn/feature_extraction/text.py:528: UserWarning: The parameter 'token_pattern' will not be used since 'tokenizer' is not None'\n",
      "  warnings.warn(\n"
     ]
    },
    {
     "name": "stdout",
     "output_type": "stream",
     "text": [
      "[CV 3/5; 5/54] END model__criterion=gini, model__max_depth=2, model__max_features=log2, model__min_samples_leaf=2;, score=(train=0.926, test=0.927) total time=  27.6s\n",
      "[CV 4/5; 5/54] START model__criterion=gini, model__max_depth=2, model__max_features=log2, model__min_samples_leaf=2\n"
     ]
    },
    {
     "name": "stderr",
     "output_type": "stream",
     "text": [
      "/Users/abdullahghifari/anaconda3/lib/python3.10/site-packages/sklearn/feature_extraction/text.py:528: UserWarning: The parameter 'token_pattern' will not be used since 'tokenizer' is not None'\n",
      "  warnings.warn(\n"
     ]
    },
    {
     "name": "stdout",
     "output_type": "stream",
     "text": [
      "[CV 4/5; 5/54] END model__criterion=gini, model__max_depth=2, model__max_features=log2, model__min_samples_leaf=2;, score=(train=0.926, test=0.925) total time=  27.8s\n",
      "[CV 5/5; 5/54] START model__criterion=gini, model__max_depth=2, model__max_features=log2, model__min_samples_leaf=2\n"
     ]
    },
    {
     "name": "stderr",
     "output_type": "stream",
     "text": [
      "/Users/abdullahghifari/anaconda3/lib/python3.10/site-packages/sklearn/feature_extraction/text.py:528: UserWarning: The parameter 'token_pattern' will not be used since 'tokenizer' is not None'\n",
      "  warnings.warn(\n"
     ]
    },
    {
     "name": "stdout",
     "output_type": "stream",
     "text": [
      "[CV 5/5; 5/54] END model__criterion=gini, model__max_depth=2, model__max_features=log2, model__min_samples_leaf=2;, score=(train=0.926, test=0.926) total time=  27.4s\n",
      "[CV 1/5; 6/54] START model__criterion=gini, model__max_depth=2, model__max_features=log2, model__min_samples_leaf=3\n"
     ]
    },
    {
     "name": "stderr",
     "output_type": "stream",
     "text": [
      "/Users/abdullahghifari/anaconda3/lib/python3.10/site-packages/sklearn/feature_extraction/text.py:528: UserWarning: The parameter 'token_pattern' will not be used since 'tokenizer' is not None'\n",
      "  warnings.warn(\n"
     ]
    },
    {
     "name": "stdout",
     "output_type": "stream",
     "text": [
      "[CV 1/5; 6/54] END model__criterion=gini, model__max_depth=2, model__max_features=log2, model__min_samples_leaf=3;, score=(train=0.926, test=0.927) total time=  27.6s\n",
      "[CV 2/5; 6/54] START model__criterion=gini, model__max_depth=2, model__max_features=log2, model__min_samples_leaf=3\n"
     ]
    },
    {
     "name": "stderr",
     "output_type": "stream",
     "text": [
      "/Users/abdullahghifari/anaconda3/lib/python3.10/site-packages/sklearn/feature_extraction/text.py:528: UserWarning: The parameter 'token_pattern' will not be used since 'tokenizer' is not None'\n",
      "  warnings.warn(\n"
     ]
    },
    {
     "name": "stdout",
     "output_type": "stream",
     "text": [
      "[CV 2/5; 6/54] END model__criterion=gini, model__max_depth=2, model__max_features=log2, model__min_samples_leaf=3;, score=(train=0.927, test=0.925) total time=  27.4s\n",
      "[CV 3/5; 6/54] START model__criterion=gini, model__max_depth=2, model__max_features=log2, model__min_samples_leaf=3\n"
     ]
    },
    {
     "name": "stderr",
     "output_type": "stream",
     "text": [
      "/Users/abdullahghifari/anaconda3/lib/python3.10/site-packages/sklearn/feature_extraction/text.py:528: UserWarning: The parameter 'token_pattern' will not be used since 'tokenizer' is not None'\n",
      "  warnings.warn(\n"
     ]
    },
    {
     "name": "stdout",
     "output_type": "stream",
     "text": [
      "[CV 3/5; 6/54] END model__criterion=gini, model__max_depth=2, model__max_features=log2, model__min_samples_leaf=3;, score=(train=0.926, test=0.927) total time=  27.4s\n",
      "[CV 4/5; 6/54] START model__criterion=gini, model__max_depth=2, model__max_features=log2, model__min_samples_leaf=3\n"
     ]
    },
    {
     "name": "stderr",
     "output_type": "stream",
     "text": [
      "/Users/abdullahghifari/anaconda3/lib/python3.10/site-packages/sklearn/feature_extraction/text.py:528: UserWarning: The parameter 'token_pattern' will not be used since 'tokenizer' is not None'\n",
      "  warnings.warn(\n"
     ]
    },
    {
     "name": "stdout",
     "output_type": "stream",
     "text": [
      "[CV 4/5; 6/54] END model__criterion=gini, model__max_depth=2, model__max_features=log2, model__min_samples_leaf=3;, score=(train=0.926, test=0.925) total time=  27.4s\n",
      "[CV 5/5; 6/54] START model__criterion=gini, model__max_depth=2, model__max_features=log2, model__min_samples_leaf=3\n"
     ]
    },
    {
     "name": "stderr",
     "output_type": "stream",
     "text": [
      "/Users/abdullahghifari/anaconda3/lib/python3.10/site-packages/sklearn/feature_extraction/text.py:528: UserWarning: The parameter 'token_pattern' will not be used since 'tokenizer' is not None'\n",
      "  warnings.warn(\n"
     ]
    },
    {
     "name": "stdout",
     "output_type": "stream",
     "text": [
      "[CV 5/5; 6/54] END model__criterion=gini, model__max_depth=2, model__max_features=log2, model__min_samples_leaf=3;, score=(train=0.926, test=0.926) total time=  27.8s\n",
      "[CV 1/5; 7/54] START model__criterion=gini, model__max_depth=2, model__max_features=None, model__min_samples_leaf=1\n"
     ]
    },
    {
     "name": "stderr",
     "output_type": "stream",
     "text": [
      "/Users/abdullahghifari/anaconda3/lib/python3.10/site-packages/sklearn/feature_extraction/text.py:528: UserWarning: The parameter 'token_pattern' will not be used since 'tokenizer' is not None'\n",
      "  warnings.warn(\n"
     ]
    },
    {
     "name": "stdout",
     "output_type": "stream",
     "text": [
      "[CV 1/5; 7/54] END model__criterion=gini, model__max_depth=2, model__max_features=None, model__min_samples_leaf=1;, score=(train=0.933, test=0.935) total time=  34.4s\n",
      "[CV 2/5; 7/54] START model__criterion=gini, model__max_depth=2, model__max_features=None, model__min_samples_leaf=1\n"
     ]
    },
    {
     "name": "stderr",
     "output_type": "stream",
     "text": [
      "/Users/abdullahghifari/anaconda3/lib/python3.10/site-packages/sklearn/feature_extraction/text.py:528: UserWarning: The parameter 'token_pattern' will not be used since 'tokenizer' is not None'\n",
      "  warnings.warn(\n"
     ]
    },
    {
     "name": "stdout",
     "output_type": "stream",
     "text": [
      "[CV 2/5; 7/54] END model__criterion=gini, model__max_depth=2, model__max_features=None, model__min_samples_leaf=1;, score=(train=0.934, test=0.932) total time=10.6min\n",
      "[CV 3/5; 7/54] START model__criterion=gini, model__max_depth=2, model__max_features=None, model__min_samples_leaf=1\n"
     ]
    },
    {
     "name": "stderr",
     "output_type": "stream",
     "text": [
      "/Users/abdullahghifari/anaconda3/lib/python3.10/site-packages/sklearn/feature_extraction/text.py:528: UserWarning: The parameter 'token_pattern' will not be used since 'tokenizer' is not None'\n",
      "  warnings.warn(\n"
     ]
    },
    {
     "name": "stdout",
     "output_type": "stream",
     "text": [
      "[CV 3/5; 7/54] END model__criterion=gini, model__max_depth=2, model__max_features=None, model__min_samples_leaf=1;, score=(train=0.933, test=0.934) total time=  35.0s\n",
      "[CV 4/5; 7/54] START model__criterion=gini, model__max_depth=2, model__max_features=None, model__min_samples_leaf=1\n"
     ]
    },
    {
     "name": "stderr",
     "output_type": "stream",
     "text": [
      "/Users/abdullahghifari/anaconda3/lib/python3.10/site-packages/sklearn/feature_extraction/text.py:528: UserWarning: The parameter 'token_pattern' will not be used since 'tokenizer' is not None'\n",
      "  warnings.warn(\n"
     ]
    },
    {
     "name": "stdout",
     "output_type": "stream",
     "text": [
      "[CV 4/5; 7/54] END model__criterion=gini, model__max_depth=2, model__max_features=None, model__min_samples_leaf=1;, score=(train=0.934, test=0.933) total time=  34.4s\n",
      "[CV 5/5; 7/54] START model__criterion=gini, model__max_depth=2, model__max_features=None, model__min_samples_leaf=1\n"
     ]
    },
    {
     "name": "stderr",
     "output_type": "stream",
     "text": [
      "/Users/abdullahghifari/anaconda3/lib/python3.10/site-packages/sklearn/feature_extraction/text.py:528: UserWarning: The parameter 'token_pattern' will not be used since 'tokenizer' is not None'\n",
      "  warnings.warn(\n"
     ]
    },
    {
     "name": "stdout",
     "output_type": "stream",
     "text": [
      "[CV 5/5; 7/54] END model__criterion=gini, model__max_depth=2, model__max_features=None, model__min_samples_leaf=1;, score=(train=0.933, test=0.933) total time=  34.1s\n",
      "[CV 1/5; 8/54] START model__criterion=gini, model__max_depth=2, model__max_features=None, model__min_samples_leaf=2\n"
     ]
    },
    {
     "name": "stderr",
     "output_type": "stream",
     "text": [
      "/Users/abdullahghifari/anaconda3/lib/python3.10/site-packages/sklearn/feature_extraction/text.py:528: UserWarning: The parameter 'token_pattern' will not be used since 'tokenizer' is not None'\n",
      "  warnings.warn(\n"
     ]
    },
    {
     "name": "stdout",
     "output_type": "stream",
     "text": [
      "[CV 1/5; 8/54] END model__criterion=gini, model__max_depth=2, model__max_features=None, model__min_samples_leaf=2;, score=(train=0.933, test=0.935) total time=  35.0s\n",
      "[CV 2/5; 8/54] START model__criterion=gini, model__max_depth=2, model__max_features=None, model__min_samples_leaf=2\n"
     ]
    },
    {
     "name": "stderr",
     "output_type": "stream",
     "text": [
      "/Users/abdullahghifari/anaconda3/lib/python3.10/site-packages/sklearn/feature_extraction/text.py:528: UserWarning: The parameter 'token_pattern' will not be used since 'tokenizer' is not None'\n",
      "  warnings.warn(\n"
     ]
    },
    {
     "name": "stdout",
     "output_type": "stream",
     "text": [
      "[CV 2/5; 8/54] END model__criterion=gini, model__max_depth=2, model__max_features=None, model__min_samples_leaf=2;, score=(train=0.934, test=0.932) total time=  35.7s\n",
      "[CV 3/5; 8/54] START model__criterion=gini, model__max_depth=2, model__max_features=None, model__min_samples_leaf=2\n"
     ]
    },
    {
     "name": "stderr",
     "output_type": "stream",
     "text": [
      "/Users/abdullahghifari/anaconda3/lib/python3.10/site-packages/sklearn/feature_extraction/text.py:528: UserWarning: The parameter 'token_pattern' will not be used since 'tokenizer' is not None'\n",
      "  warnings.warn(\n"
     ]
    },
    {
     "name": "stdout",
     "output_type": "stream",
     "text": [
      "[CV 3/5; 8/54] END model__criterion=gini, model__max_depth=2, model__max_features=None, model__min_samples_leaf=2;, score=(train=0.933, test=0.934) total time=  33.9s\n",
      "[CV 4/5; 8/54] START model__criterion=gini, model__max_depth=2, model__max_features=None, model__min_samples_leaf=2\n"
     ]
    },
    {
     "name": "stderr",
     "output_type": "stream",
     "text": [
      "/Users/abdullahghifari/anaconda3/lib/python3.10/site-packages/sklearn/feature_extraction/text.py:528: UserWarning: The parameter 'token_pattern' will not be used since 'tokenizer' is not None'\n",
      "  warnings.warn(\n"
     ]
    },
    {
     "name": "stdout",
     "output_type": "stream",
     "text": [
      "[CV 4/5; 8/54] END model__criterion=gini, model__max_depth=2, model__max_features=None, model__min_samples_leaf=2;, score=(train=0.934, test=0.933) total time=  33.9s\n",
      "[CV 5/5; 8/54] START model__criterion=gini, model__max_depth=2, model__max_features=None, model__min_samples_leaf=2\n"
     ]
    },
    {
     "name": "stderr",
     "output_type": "stream",
     "text": [
      "/Users/abdullahghifari/anaconda3/lib/python3.10/site-packages/sklearn/feature_extraction/text.py:528: UserWarning: The parameter 'token_pattern' will not be used since 'tokenizer' is not None'\n",
      "  warnings.warn(\n"
     ]
    },
    {
     "name": "stdout",
     "output_type": "stream",
     "text": [
      "[CV 5/5; 8/54] END model__criterion=gini, model__max_depth=2, model__max_features=None, model__min_samples_leaf=2;, score=(train=0.933, test=0.933) total time=  34.0s\n",
      "[CV 1/5; 9/54] START model__criterion=gini, model__max_depth=2, model__max_features=None, model__min_samples_leaf=3\n"
     ]
    },
    {
     "name": "stderr",
     "output_type": "stream",
     "text": [
      "/Users/abdullahghifari/anaconda3/lib/python3.10/site-packages/sklearn/feature_extraction/text.py:528: UserWarning: The parameter 'token_pattern' will not be used since 'tokenizer' is not None'\n",
      "  warnings.warn(\n"
     ]
    },
    {
     "name": "stdout",
     "output_type": "stream",
     "text": [
      "[CV 1/5; 9/54] END model__criterion=gini, model__max_depth=2, model__max_features=None, model__min_samples_leaf=3;, score=(train=0.933, test=0.935) total time=  33.4s\n",
      "[CV 2/5; 9/54] START model__criterion=gini, model__max_depth=2, model__max_features=None, model__min_samples_leaf=3\n"
     ]
    },
    {
     "name": "stderr",
     "output_type": "stream",
     "text": [
      "/Users/abdullahghifari/anaconda3/lib/python3.10/site-packages/sklearn/feature_extraction/text.py:528: UserWarning: The parameter 'token_pattern' will not be used since 'tokenizer' is not None'\n",
      "  warnings.warn(\n"
     ]
    },
    {
     "name": "stdout",
     "output_type": "stream",
     "text": [
      "[CV 2/5; 9/54] END model__criterion=gini, model__max_depth=2, model__max_features=None, model__min_samples_leaf=3;, score=(train=0.934, test=0.932) total time=  33.6s\n",
      "[CV 3/5; 9/54] START model__criterion=gini, model__max_depth=2, model__max_features=None, model__min_samples_leaf=3\n"
     ]
    },
    {
     "name": "stderr",
     "output_type": "stream",
     "text": [
      "/Users/abdullahghifari/anaconda3/lib/python3.10/site-packages/sklearn/feature_extraction/text.py:528: UserWarning: The parameter 'token_pattern' will not be used since 'tokenizer' is not None'\n",
      "  warnings.warn(\n"
     ]
    },
    {
     "name": "stdout",
     "output_type": "stream",
     "text": [
      "[CV 3/5; 9/54] END model__criterion=gini, model__max_depth=2, model__max_features=None, model__min_samples_leaf=3;, score=(train=0.933, test=0.934) total time=  34.7s\n",
      "[CV 4/5; 9/54] START model__criterion=gini, model__max_depth=2, model__max_features=None, model__min_samples_leaf=3\n"
     ]
    },
    {
     "name": "stderr",
     "output_type": "stream",
     "text": [
      "/Users/abdullahghifari/anaconda3/lib/python3.10/site-packages/sklearn/feature_extraction/text.py:528: UserWarning: The parameter 'token_pattern' will not be used since 'tokenizer' is not None'\n",
      "  warnings.warn(\n"
     ]
    },
    {
     "name": "stdout",
     "output_type": "stream",
     "text": [
      "[CV 4/5; 9/54] END model__criterion=gini, model__max_depth=2, model__max_features=None, model__min_samples_leaf=3;, score=(train=0.934, test=0.933) total time=  32.6s\n",
      "[CV 5/5; 9/54] START model__criterion=gini, model__max_depth=2, model__max_features=None, model__min_samples_leaf=3\n"
     ]
    },
    {
     "name": "stderr",
     "output_type": "stream",
     "text": [
      "/Users/abdullahghifari/anaconda3/lib/python3.10/site-packages/sklearn/feature_extraction/text.py:528: UserWarning: The parameter 'token_pattern' will not be used since 'tokenizer' is not None'\n",
      "  warnings.warn(\n"
     ]
    },
    {
     "name": "stdout",
     "output_type": "stream",
     "text": [
      "[CV 5/5; 9/54] END model__criterion=gini, model__max_depth=2, model__max_features=None, model__min_samples_leaf=3;, score=(train=0.933, test=0.933) total time=  33.5s\n",
      "[CV 1/5; 10/54] START model__criterion=gini, model__max_depth=4, model__max_features=sqrt, model__min_samples_leaf=1\n"
     ]
    },
    {
     "name": "stderr",
     "output_type": "stream",
     "text": [
      "/Users/abdullahghifari/anaconda3/lib/python3.10/site-packages/sklearn/feature_extraction/text.py:528: UserWarning: The parameter 'token_pattern' will not be used since 'tokenizer' is not None'\n",
      "  warnings.warn(\n"
     ]
    },
    {
     "name": "stdout",
     "output_type": "stream",
     "text": [
      "[CV 1/5; 10/54] END model__criterion=gini, model__max_depth=4, model__max_features=sqrt, model__min_samples_leaf=1;, score=(train=0.926, test=0.927) total time=  28.0s\n",
      "[CV 2/5; 10/54] START model__criterion=gini, model__max_depth=4, model__max_features=sqrt, model__min_samples_leaf=1\n"
     ]
    },
    {
     "name": "stderr",
     "output_type": "stream",
     "text": [
      "/Users/abdullahghifari/anaconda3/lib/python3.10/site-packages/sklearn/feature_extraction/text.py:528: UserWarning: The parameter 'token_pattern' will not be used since 'tokenizer' is not None'\n",
      "  warnings.warn(\n"
     ]
    },
    {
     "name": "stdout",
     "output_type": "stream",
     "text": [
      "[CV 2/5; 10/54] END model__criterion=gini, model__max_depth=4, model__max_features=sqrt, model__min_samples_leaf=1;, score=(train=0.927, test=0.925) total time=  27.9s\n",
      "[CV 3/5; 10/54] START model__criterion=gini, model__max_depth=4, model__max_features=sqrt, model__min_samples_leaf=1\n"
     ]
    },
    {
     "name": "stderr",
     "output_type": "stream",
     "text": [
      "/Users/abdullahghifari/anaconda3/lib/python3.10/site-packages/sklearn/feature_extraction/text.py:528: UserWarning: The parameter 'token_pattern' will not be used since 'tokenizer' is not None'\n",
      "  warnings.warn(\n"
     ]
    },
    {
     "name": "stdout",
     "output_type": "stream",
     "text": [
      "[CV 3/5; 10/54] END model__criterion=gini, model__max_depth=4, model__max_features=sqrt, model__min_samples_leaf=1;, score=(train=0.926, test=0.928) total time=  27.7s\n",
      "[CV 4/5; 10/54] START model__criterion=gini, model__max_depth=4, model__max_features=sqrt, model__min_samples_leaf=1\n"
     ]
    },
    {
     "name": "stderr",
     "output_type": "stream",
     "text": [
      "/Users/abdullahghifari/anaconda3/lib/python3.10/site-packages/sklearn/feature_extraction/text.py:528: UserWarning: The parameter 'token_pattern' will not be used since 'tokenizer' is not None'\n",
      "  warnings.warn(\n"
     ]
    },
    {
     "name": "stdout",
     "output_type": "stream",
     "text": [
      "[CV 4/5; 10/54] END model__criterion=gini, model__max_depth=4, model__max_features=sqrt, model__min_samples_leaf=1;, score=(train=0.926, test=0.925) total time=  27.3s\n",
      "[CV 5/5; 10/54] START model__criterion=gini, model__max_depth=4, model__max_features=sqrt, model__min_samples_leaf=1\n"
     ]
    },
    {
     "name": "stderr",
     "output_type": "stream",
     "text": [
      "/Users/abdullahghifari/anaconda3/lib/python3.10/site-packages/sklearn/feature_extraction/text.py:528: UserWarning: The parameter 'token_pattern' will not be used since 'tokenizer' is not None'\n",
      "  warnings.warn(\n"
     ]
    },
    {
     "name": "stdout",
     "output_type": "stream",
     "text": [
      "[CV 5/5; 10/54] END model__criterion=gini, model__max_depth=4, model__max_features=sqrt, model__min_samples_leaf=1;, score=(train=0.926, test=0.926) total time=  27.3s\n",
      "[CV 1/5; 11/54] START model__criterion=gini, model__max_depth=4, model__max_features=sqrt, model__min_samples_leaf=2\n"
     ]
    },
    {
     "name": "stderr",
     "output_type": "stream",
     "text": [
      "/Users/abdullahghifari/anaconda3/lib/python3.10/site-packages/sklearn/feature_extraction/text.py:528: UserWarning: The parameter 'token_pattern' will not be used since 'tokenizer' is not None'\n",
      "  warnings.warn(\n"
     ]
    },
    {
     "name": "stdout",
     "output_type": "stream",
     "text": [
      "[CV 1/5; 11/54] END model__criterion=gini, model__max_depth=4, model__max_features=sqrt, model__min_samples_leaf=2;, score=(train=0.926, test=0.927) total time=  27.3s\n",
      "[CV 2/5; 11/54] START model__criterion=gini, model__max_depth=4, model__max_features=sqrt, model__min_samples_leaf=2\n"
     ]
    },
    {
     "name": "stderr",
     "output_type": "stream",
     "text": [
      "/Users/abdullahghifari/anaconda3/lib/python3.10/site-packages/sklearn/feature_extraction/text.py:528: UserWarning: The parameter 'token_pattern' will not be used since 'tokenizer' is not None'\n",
      "  warnings.warn(\n"
     ]
    },
    {
     "name": "stdout",
     "output_type": "stream",
     "text": [
      "[CV 2/5; 11/54] END model__criterion=gini, model__max_depth=4, model__max_features=sqrt, model__min_samples_leaf=2;, score=(train=0.927, test=0.925) total time=  27.4s\n",
      "[CV 3/5; 11/54] START model__criterion=gini, model__max_depth=4, model__max_features=sqrt, model__min_samples_leaf=2\n"
     ]
    },
    {
     "name": "stderr",
     "output_type": "stream",
     "text": [
      "/Users/abdullahghifari/anaconda3/lib/python3.10/site-packages/sklearn/feature_extraction/text.py:528: UserWarning: The parameter 'token_pattern' will not be used since 'tokenizer' is not None'\n",
      "  warnings.warn(\n"
     ]
    },
    {
     "name": "stdout",
     "output_type": "stream",
     "text": [
      "[CV 3/5; 11/54] END model__criterion=gini, model__max_depth=4, model__max_features=sqrt, model__min_samples_leaf=2;, score=(train=0.926, test=0.928) total time=  28.2s\n",
      "[CV 4/5; 11/54] START model__criterion=gini, model__max_depth=4, model__max_features=sqrt, model__min_samples_leaf=2\n"
     ]
    },
    {
     "name": "stderr",
     "output_type": "stream",
     "text": [
      "/Users/abdullahghifari/anaconda3/lib/python3.10/site-packages/sklearn/feature_extraction/text.py:528: UserWarning: The parameter 'token_pattern' will not be used since 'tokenizer' is not None'\n",
      "  warnings.warn(\n"
     ]
    },
    {
     "name": "stdout",
     "output_type": "stream",
     "text": [
      "[CV 4/5; 11/54] END model__criterion=gini, model__max_depth=4, model__max_features=sqrt, model__min_samples_leaf=2;, score=(train=0.926, test=0.925) total time=  27.9s\n",
      "[CV 5/5; 11/54] START model__criterion=gini, model__max_depth=4, model__max_features=sqrt, model__min_samples_leaf=2\n"
     ]
    },
    {
     "name": "stderr",
     "output_type": "stream",
     "text": [
      "/Users/abdullahghifari/anaconda3/lib/python3.10/site-packages/sklearn/feature_extraction/text.py:528: UserWarning: The parameter 'token_pattern' will not be used since 'tokenizer' is not None'\n",
      "  warnings.warn(\n"
     ]
    },
    {
     "name": "stdout",
     "output_type": "stream",
     "text": [
      "[CV 5/5; 11/54] END model__criterion=gini, model__max_depth=4, model__max_features=sqrt, model__min_samples_leaf=2;, score=(train=0.926, test=0.926) total time=  27.5s\n",
      "[CV 1/5; 12/54] START model__criterion=gini, model__max_depth=4, model__max_features=sqrt, model__min_samples_leaf=3\n"
     ]
    },
    {
     "name": "stderr",
     "output_type": "stream",
     "text": [
      "/Users/abdullahghifari/anaconda3/lib/python3.10/site-packages/sklearn/feature_extraction/text.py:528: UserWarning: The parameter 'token_pattern' will not be used since 'tokenizer' is not None'\n",
      "  warnings.warn(\n"
     ]
    },
    {
     "name": "stdout",
     "output_type": "stream",
     "text": [
      "[CV 1/5; 12/54] END model__criterion=gini, model__max_depth=4, model__max_features=sqrt, model__min_samples_leaf=3;, score=(train=0.926, test=0.927) total time=  27.7s\n",
      "[CV 2/5; 12/54] START model__criterion=gini, model__max_depth=4, model__max_features=sqrt, model__min_samples_leaf=3\n"
     ]
    },
    {
     "name": "stderr",
     "output_type": "stream",
     "text": [
      "/Users/abdullahghifari/anaconda3/lib/python3.10/site-packages/sklearn/feature_extraction/text.py:528: UserWarning: The parameter 'token_pattern' will not be used since 'tokenizer' is not None'\n",
      "  warnings.warn(\n"
     ]
    },
    {
     "name": "stdout",
     "output_type": "stream",
     "text": [
      "[CV 2/5; 12/54] END model__criterion=gini, model__max_depth=4, model__max_features=sqrt, model__min_samples_leaf=3;, score=(train=0.927, test=0.925) total time=  28.0s\n",
      "[CV 3/5; 12/54] START model__criterion=gini, model__max_depth=4, model__max_features=sqrt, model__min_samples_leaf=3\n"
     ]
    },
    {
     "name": "stderr",
     "output_type": "stream",
     "text": [
      "/Users/abdullahghifari/anaconda3/lib/python3.10/site-packages/sklearn/feature_extraction/text.py:528: UserWarning: The parameter 'token_pattern' will not be used since 'tokenizer' is not None'\n",
      "  warnings.warn(\n"
     ]
    },
    {
     "name": "stdout",
     "output_type": "stream",
     "text": [
      "[CV 3/5; 12/54] END model__criterion=gini, model__max_depth=4, model__max_features=sqrt, model__min_samples_leaf=3;, score=(train=0.926, test=0.928) total time=  27.4s\n",
      "[CV 4/5; 12/54] START model__criterion=gini, model__max_depth=4, model__max_features=sqrt, model__min_samples_leaf=3\n"
     ]
    },
    {
     "name": "stderr",
     "output_type": "stream",
     "text": [
      "/Users/abdullahghifari/anaconda3/lib/python3.10/site-packages/sklearn/feature_extraction/text.py:528: UserWarning: The parameter 'token_pattern' will not be used since 'tokenizer' is not None'\n",
      "  warnings.warn(\n"
     ]
    },
    {
     "name": "stdout",
     "output_type": "stream",
     "text": [
      "[CV 4/5; 12/54] END model__criterion=gini, model__max_depth=4, model__max_features=sqrt, model__min_samples_leaf=3;, score=(train=0.926, test=0.925) total time=  27.5s\n",
      "[CV 5/5; 12/54] START model__criterion=gini, model__max_depth=4, model__max_features=sqrt, model__min_samples_leaf=3\n"
     ]
    },
    {
     "name": "stderr",
     "output_type": "stream",
     "text": [
      "/Users/abdullahghifari/anaconda3/lib/python3.10/site-packages/sklearn/feature_extraction/text.py:528: UserWarning: The parameter 'token_pattern' will not be used since 'tokenizer' is not None'\n",
      "  warnings.warn(\n"
     ]
    },
    {
     "name": "stdout",
     "output_type": "stream",
     "text": [
      "[CV 5/5; 12/54] END model__criterion=gini, model__max_depth=4, model__max_features=sqrt, model__min_samples_leaf=3;, score=(train=0.926, test=0.926) total time=  27.6s\n",
      "[CV 1/5; 13/54] START model__criterion=gini, model__max_depth=4, model__max_features=log2, model__min_samples_leaf=1\n"
     ]
    },
    {
     "name": "stderr",
     "output_type": "stream",
     "text": [
      "/Users/abdullahghifari/anaconda3/lib/python3.10/site-packages/sklearn/feature_extraction/text.py:528: UserWarning: The parameter 'token_pattern' will not be used since 'tokenizer' is not None'\n",
      "  warnings.warn(\n"
     ]
    },
    {
     "name": "stdout",
     "output_type": "stream",
     "text": [
      "[CV 1/5; 13/54] END model__criterion=gini, model__max_depth=4, model__max_features=log2, model__min_samples_leaf=1;, score=(train=0.926, test=0.927) total time=  27.8s\n",
      "[CV 2/5; 13/54] START model__criterion=gini, model__max_depth=4, model__max_features=log2, model__min_samples_leaf=1\n"
     ]
    },
    {
     "name": "stderr",
     "output_type": "stream",
     "text": [
      "/Users/abdullahghifari/anaconda3/lib/python3.10/site-packages/sklearn/feature_extraction/text.py:528: UserWarning: The parameter 'token_pattern' will not be used since 'tokenizer' is not None'\n",
      "  warnings.warn(\n"
     ]
    },
    {
     "name": "stdout",
     "output_type": "stream",
     "text": [
      "[CV 2/5; 13/54] END model__criterion=gini, model__max_depth=4, model__max_features=log2, model__min_samples_leaf=1;, score=(train=0.927, test=0.925) total time=  29.0s\n",
      "[CV 3/5; 13/54] START model__criterion=gini, model__max_depth=4, model__max_features=log2, model__min_samples_leaf=1\n"
     ]
    },
    {
     "name": "stderr",
     "output_type": "stream",
     "text": [
      "/Users/abdullahghifari/anaconda3/lib/python3.10/site-packages/sklearn/feature_extraction/text.py:528: UserWarning: The parameter 'token_pattern' will not be used since 'tokenizer' is not None'\n",
      "  warnings.warn(\n"
     ]
    },
    {
     "name": "stdout",
     "output_type": "stream",
     "text": [
      "[CV 3/5; 13/54] END model__criterion=gini, model__max_depth=4, model__max_features=log2, model__min_samples_leaf=1;, score=(train=0.926, test=0.927) total time=  27.8s\n",
      "[CV 4/5; 13/54] START model__criterion=gini, model__max_depth=4, model__max_features=log2, model__min_samples_leaf=1\n"
     ]
    },
    {
     "name": "stderr",
     "output_type": "stream",
     "text": [
      "/Users/abdullahghifari/anaconda3/lib/python3.10/site-packages/sklearn/feature_extraction/text.py:528: UserWarning: The parameter 'token_pattern' will not be used since 'tokenizer' is not None'\n",
      "  warnings.warn(\n"
     ]
    },
    {
     "name": "stdout",
     "output_type": "stream",
     "text": [
      "[CV 4/5; 13/54] END model__criterion=gini, model__max_depth=4, model__max_features=log2, model__min_samples_leaf=1;, score=(train=0.926, test=0.925) total time=  28.0s\n",
      "[CV 5/5; 13/54] START model__criterion=gini, model__max_depth=4, model__max_features=log2, model__min_samples_leaf=1\n"
     ]
    },
    {
     "name": "stderr",
     "output_type": "stream",
     "text": [
      "/Users/abdullahghifari/anaconda3/lib/python3.10/site-packages/sklearn/feature_extraction/text.py:528: UserWarning: The parameter 'token_pattern' will not be used since 'tokenizer' is not None'\n",
      "  warnings.warn(\n"
     ]
    },
    {
     "name": "stdout",
     "output_type": "stream",
     "text": [
      "[CV 5/5; 13/54] END model__criterion=gini, model__max_depth=4, model__max_features=log2, model__min_samples_leaf=1;, score=(train=0.926, test=0.926) total time=  28.3s\n",
      "[CV 1/5; 14/54] START model__criterion=gini, model__max_depth=4, model__max_features=log2, model__min_samples_leaf=2\n"
     ]
    },
    {
     "name": "stderr",
     "output_type": "stream",
     "text": [
      "/Users/abdullahghifari/anaconda3/lib/python3.10/site-packages/sklearn/feature_extraction/text.py:528: UserWarning: The parameter 'token_pattern' will not be used since 'tokenizer' is not None'\n",
      "  warnings.warn(\n"
     ]
    },
    {
     "name": "stdout",
     "output_type": "stream",
     "text": [
      "[CV 1/5; 14/54] END model__criterion=gini, model__max_depth=4, model__max_features=log2, model__min_samples_leaf=2;, score=(train=0.926, test=0.927) total time=  28.1s\n",
      "[CV 2/5; 14/54] START model__criterion=gini, model__max_depth=4, model__max_features=log2, model__min_samples_leaf=2\n"
     ]
    },
    {
     "name": "stderr",
     "output_type": "stream",
     "text": [
      "/Users/abdullahghifari/anaconda3/lib/python3.10/site-packages/sklearn/feature_extraction/text.py:528: UserWarning: The parameter 'token_pattern' will not be used since 'tokenizer' is not None'\n",
      "  warnings.warn(\n"
     ]
    },
    {
     "name": "stdout",
     "output_type": "stream",
     "text": [
      "[CV 2/5; 14/54] END model__criterion=gini, model__max_depth=4, model__max_features=log2, model__min_samples_leaf=2;, score=(train=0.927, test=0.925) total time=  27.5s\n",
      "[CV 3/5; 14/54] START model__criterion=gini, model__max_depth=4, model__max_features=log2, model__min_samples_leaf=2\n"
     ]
    },
    {
     "name": "stderr",
     "output_type": "stream",
     "text": [
      "/Users/abdullahghifari/anaconda3/lib/python3.10/site-packages/sklearn/feature_extraction/text.py:528: UserWarning: The parameter 'token_pattern' will not be used since 'tokenizer' is not None'\n",
      "  warnings.warn(\n"
     ]
    },
    {
     "name": "stdout",
     "output_type": "stream",
     "text": [
      "[CV 3/5; 14/54] END model__criterion=gini, model__max_depth=4, model__max_features=log2, model__min_samples_leaf=2;, score=(train=0.926, test=0.927) total time=  28.1s\n",
      "[CV 4/5; 14/54] START model__criterion=gini, model__max_depth=4, model__max_features=log2, model__min_samples_leaf=2\n"
     ]
    },
    {
     "name": "stderr",
     "output_type": "stream",
     "text": [
      "/Users/abdullahghifari/anaconda3/lib/python3.10/site-packages/sklearn/feature_extraction/text.py:528: UserWarning: The parameter 'token_pattern' will not be used since 'tokenizer' is not None'\n",
      "  warnings.warn(\n"
     ]
    },
    {
     "name": "stdout",
     "output_type": "stream",
     "text": [
      "[CV 4/5; 14/54] END model__criterion=gini, model__max_depth=4, model__max_features=log2, model__min_samples_leaf=2;, score=(train=0.926, test=0.925) total time=  27.7s\n",
      "[CV 5/5; 14/54] START model__criterion=gini, model__max_depth=4, model__max_features=log2, model__min_samples_leaf=2\n"
     ]
    },
    {
     "name": "stderr",
     "output_type": "stream",
     "text": [
      "/Users/abdullahghifari/anaconda3/lib/python3.10/site-packages/sklearn/feature_extraction/text.py:528: UserWarning: The parameter 'token_pattern' will not be used since 'tokenizer' is not None'\n",
      "  warnings.warn(\n"
     ]
    },
    {
     "name": "stdout",
     "output_type": "stream",
     "text": [
      "[CV 5/5; 14/54] END model__criterion=gini, model__max_depth=4, model__max_features=log2, model__min_samples_leaf=2;, score=(train=0.926, test=0.926) total time=  30.2s\n",
      "[CV 1/5; 15/54] START model__criterion=gini, model__max_depth=4, model__max_features=log2, model__min_samples_leaf=3\n"
     ]
    },
    {
     "name": "stderr",
     "output_type": "stream",
     "text": [
      "/Users/abdullahghifari/anaconda3/lib/python3.10/site-packages/sklearn/feature_extraction/text.py:528: UserWarning: The parameter 'token_pattern' will not be used since 'tokenizer' is not None'\n",
      "  warnings.warn(\n"
     ]
    },
    {
     "name": "stdout",
     "output_type": "stream",
     "text": [
      "[CV 1/5; 15/54] END model__criterion=gini, model__max_depth=4, model__max_features=log2, model__min_samples_leaf=3;, score=(train=0.926, test=0.927) total time=  29.4s\n",
      "[CV 2/5; 15/54] START model__criterion=gini, model__max_depth=4, model__max_features=log2, model__min_samples_leaf=3\n"
     ]
    },
    {
     "name": "stderr",
     "output_type": "stream",
     "text": [
      "/Users/abdullahghifari/anaconda3/lib/python3.10/site-packages/sklearn/feature_extraction/text.py:528: UserWarning: The parameter 'token_pattern' will not be used since 'tokenizer' is not None'\n",
      "  warnings.warn(\n"
     ]
    },
    {
     "name": "stdout",
     "output_type": "stream",
     "text": [
      "[CV 2/5; 15/54] END model__criterion=gini, model__max_depth=4, model__max_features=log2, model__min_samples_leaf=3;, score=(train=0.927, test=0.925) total time=  27.4s\n",
      "[CV 3/5; 15/54] START model__criterion=gini, model__max_depth=4, model__max_features=log2, model__min_samples_leaf=3\n"
     ]
    },
    {
     "name": "stderr",
     "output_type": "stream",
     "text": [
      "/Users/abdullahghifari/anaconda3/lib/python3.10/site-packages/sklearn/feature_extraction/text.py:528: UserWarning: The parameter 'token_pattern' will not be used since 'tokenizer' is not None'\n",
      "  warnings.warn(\n"
     ]
    },
    {
     "name": "stdout",
     "output_type": "stream",
     "text": [
      "[CV 3/5; 15/54] END model__criterion=gini, model__max_depth=4, model__max_features=log2, model__min_samples_leaf=3;, score=(train=0.926, test=0.927) total time=  28.0s\n",
      "[CV 4/5; 15/54] START model__criterion=gini, model__max_depth=4, model__max_features=log2, model__min_samples_leaf=3\n"
     ]
    },
    {
     "name": "stderr",
     "output_type": "stream",
     "text": [
      "/Users/abdullahghifari/anaconda3/lib/python3.10/site-packages/sklearn/feature_extraction/text.py:528: UserWarning: The parameter 'token_pattern' will not be used since 'tokenizer' is not None'\n",
      "  warnings.warn(\n"
     ]
    },
    {
     "name": "stdout",
     "output_type": "stream",
     "text": [
      "[CV 4/5; 15/54] END model__criterion=gini, model__max_depth=4, model__max_features=log2, model__min_samples_leaf=3;, score=(train=0.926, test=0.925) total time=  27.2s\n",
      "[CV 5/5; 15/54] START model__criterion=gini, model__max_depth=4, model__max_features=log2, model__min_samples_leaf=3\n"
     ]
    },
    {
     "name": "stderr",
     "output_type": "stream",
     "text": [
      "/Users/abdullahghifari/anaconda3/lib/python3.10/site-packages/sklearn/feature_extraction/text.py:528: UserWarning: The parameter 'token_pattern' will not be used since 'tokenizer' is not None'\n",
      "  warnings.warn(\n"
     ]
    },
    {
     "name": "stdout",
     "output_type": "stream",
     "text": [
      "[CV 5/5; 15/54] END model__criterion=gini, model__max_depth=4, model__max_features=log2, model__min_samples_leaf=3;, score=(train=0.926, test=0.926) total time=  27.5s\n",
      "[CV 1/5; 16/54] START model__criterion=gini, model__max_depth=4, model__max_features=None, model__min_samples_leaf=1\n"
     ]
    },
    {
     "name": "stderr",
     "output_type": "stream",
     "text": [
      "/Users/abdullahghifari/anaconda3/lib/python3.10/site-packages/sklearn/feature_extraction/text.py:528: UserWarning: The parameter 'token_pattern' will not be used since 'tokenizer' is not None'\n",
      "  warnings.warn(\n"
     ]
    },
    {
     "name": "stdout",
     "output_type": "stream",
     "text": [
      "[CV 1/5; 16/54] END model__criterion=gini, model__max_depth=4, model__max_features=None, model__min_samples_leaf=1;, score=(train=0.937, test=0.938) total time=  41.7s\n",
      "[CV 2/5; 16/54] START model__criterion=gini, model__max_depth=4, model__max_features=None, model__min_samples_leaf=1\n"
     ]
    },
    {
     "name": "stderr",
     "output_type": "stream",
     "text": [
      "/Users/abdullahghifari/anaconda3/lib/python3.10/site-packages/sklearn/feature_extraction/text.py:528: UserWarning: The parameter 'token_pattern' will not be used since 'tokenizer' is not None'\n",
      "  warnings.warn(\n"
     ]
    },
    {
     "name": "stdout",
     "output_type": "stream",
     "text": [
      "[CV 2/5; 16/54] END model__criterion=gini, model__max_depth=4, model__max_features=None, model__min_samples_leaf=1;, score=(train=0.938, test=0.937) total time=  42.1s\n",
      "[CV 3/5; 16/54] START model__criterion=gini, model__max_depth=4, model__max_features=None, model__min_samples_leaf=1\n"
     ]
    },
    {
     "name": "stderr",
     "output_type": "stream",
     "text": [
      "/Users/abdullahghifari/anaconda3/lib/python3.10/site-packages/sklearn/feature_extraction/text.py:528: UserWarning: The parameter 'token_pattern' will not be used since 'tokenizer' is not None'\n",
      "  warnings.warn(\n"
     ]
    },
    {
     "name": "stdout",
     "output_type": "stream",
     "text": [
      "[CV 3/5; 16/54] END model__criterion=gini, model__max_depth=4, model__max_features=None, model__min_samples_leaf=1;, score=(train=0.937, test=0.937) total time=  43.1s\n",
      "[CV 4/5; 16/54] START model__criterion=gini, model__max_depth=4, model__max_features=None, model__min_samples_leaf=1\n"
     ]
    },
    {
     "name": "stderr",
     "output_type": "stream",
     "text": [
      "/Users/abdullahghifari/anaconda3/lib/python3.10/site-packages/sklearn/feature_extraction/text.py:528: UserWarning: The parameter 'token_pattern' will not be used since 'tokenizer' is not None'\n",
      "  warnings.warn(\n"
     ]
    },
    {
     "name": "stdout",
     "output_type": "stream",
     "text": [
      "[CV 4/5; 16/54] END model__criterion=gini, model__max_depth=4, model__max_features=None, model__min_samples_leaf=1;, score=(train=0.938, test=0.936) total time=  43.1s\n",
      "[CV 5/5; 16/54] START model__criterion=gini, model__max_depth=4, model__max_features=None, model__min_samples_leaf=1\n"
     ]
    },
    {
     "name": "stderr",
     "output_type": "stream",
     "text": [
      "/Users/abdullahghifari/anaconda3/lib/python3.10/site-packages/sklearn/feature_extraction/text.py:528: UserWarning: The parameter 'token_pattern' will not be used since 'tokenizer' is not None'\n",
      "  warnings.warn(\n"
     ]
    },
    {
     "name": "stdout",
     "output_type": "stream",
     "text": [
      "[CV 5/5; 16/54] END model__criterion=gini, model__max_depth=4, model__max_features=None, model__min_samples_leaf=1;, score=(train=0.937, test=0.937) total time=  42.6s\n",
      "[CV 1/5; 17/54] START model__criterion=gini, model__max_depth=4, model__max_features=None, model__min_samples_leaf=2\n"
     ]
    },
    {
     "name": "stderr",
     "output_type": "stream",
     "text": [
      "/Users/abdullahghifari/anaconda3/lib/python3.10/site-packages/sklearn/feature_extraction/text.py:528: UserWarning: The parameter 'token_pattern' will not be used since 'tokenizer' is not None'\n",
      "  warnings.warn(\n"
     ]
    },
    {
     "name": "stdout",
     "output_type": "stream",
     "text": [
      "[CV 1/5; 17/54] END model__criterion=gini, model__max_depth=4, model__max_features=None, model__min_samples_leaf=2;, score=(train=0.937, test=0.938) total time=  39.8s\n",
      "[CV 2/5; 17/54] START model__criterion=gini, model__max_depth=4, model__max_features=None, model__min_samples_leaf=2\n"
     ]
    },
    {
     "name": "stderr",
     "output_type": "stream",
     "text": [
      "/Users/abdullahghifari/anaconda3/lib/python3.10/site-packages/sklearn/feature_extraction/text.py:528: UserWarning: The parameter 'token_pattern' will not be used since 'tokenizer' is not None'\n",
      "  warnings.warn(\n"
     ]
    },
    {
     "name": "stdout",
     "output_type": "stream",
     "text": [
      "[CV 2/5; 17/54] END model__criterion=gini, model__max_depth=4, model__max_features=None, model__min_samples_leaf=2;, score=(train=0.938, test=0.937) total time=  40.1s\n",
      "[CV 3/5; 17/54] START model__criterion=gini, model__max_depth=4, model__max_features=None, model__min_samples_leaf=2\n"
     ]
    },
    {
     "name": "stderr",
     "output_type": "stream",
     "text": [
      "/Users/abdullahghifari/anaconda3/lib/python3.10/site-packages/sklearn/feature_extraction/text.py:528: UserWarning: The parameter 'token_pattern' will not be used since 'tokenizer' is not None'\n",
      "  warnings.warn(\n"
     ]
    },
    {
     "name": "stdout",
     "output_type": "stream",
     "text": [
      "[CV 3/5; 17/54] END model__criterion=gini, model__max_depth=4, model__max_features=None, model__min_samples_leaf=2;, score=(train=0.937, test=0.937) total time=  42.6s\n",
      "[CV 4/5; 17/54] START model__criterion=gini, model__max_depth=4, model__max_features=None, model__min_samples_leaf=2\n"
     ]
    },
    {
     "name": "stderr",
     "output_type": "stream",
     "text": [
      "/Users/abdullahghifari/anaconda3/lib/python3.10/site-packages/sklearn/feature_extraction/text.py:528: UserWarning: The parameter 'token_pattern' will not be used since 'tokenizer' is not None'\n",
      "  warnings.warn(\n"
     ]
    },
    {
     "name": "stdout",
     "output_type": "stream",
     "text": [
      "[CV 4/5; 17/54] END model__criterion=gini, model__max_depth=4, model__max_features=None, model__min_samples_leaf=2;, score=(train=0.938, test=0.936) total time=  39.9s\n",
      "[CV 5/5; 17/54] START model__criterion=gini, model__max_depth=4, model__max_features=None, model__min_samples_leaf=2\n"
     ]
    },
    {
     "name": "stderr",
     "output_type": "stream",
     "text": [
      "/Users/abdullahghifari/anaconda3/lib/python3.10/site-packages/sklearn/feature_extraction/text.py:528: UserWarning: The parameter 'token_pattern' will not be used since 'tokenizer' is not None'\n",
      "  warnings.warn(\n"
     ]
    },
    {
     "name": "stdout",
     "output_type": "stream",
     "text": [
      "[CV 5/5; 17/54] END model__criterion=gini, model__max_depth=4, model__max_features=None, model__min_samples_leaf=2;, score=(train=0.937, test=0.937) total time=  40.1s\n",
      "[CV 1/5; 18/54] START model__criterion=gini, model__max_depth=4, model__max_features=None, model__min_samples_leaf=3\n"
     ]
    },
    {
     "name": "stderr",
     "output_type": "stream",
     "text": [
      "/Users/abdullahghifari/anaconda3/lib/python3.10/site-packages/sklearn/feature_extraction/text.py:528: UserWarning: The parameter 'token_pattern' will not be used since 'tokenizer' is not None'\n",
      "  warnings.warn(\n"
     ]
    },
    {
     "name": "stdout",
     "output_type": "stream",
     "text": [
      "[CV 1/5; 18/54] END model__criterion=gini, model__max_depth=4, model__max_features=None, model__min_samples_leaf=3;, score=(train=0.937, test=0.938) total time=  39.3s\n",
      "[CV 2/5; 18/54] START model__criterion=gini, model__max_depth=4, model__max_features=None, model__min_samples_leaf=3\n"
     ]
    },
    {
     "name": "stderr",
     "output_type": "stream",
     "text": [
      "/Users/abdullahghifari/anaconda3/lib/python3.10/site-packages/sklearn/feature_extraction/text.py:528: UserWarning: The parameter 'token_pattern' will not be used since 'tokenizer' is not None'\n",
      "  warnings.warn(\n"
     ]
    },
    {
     "name": "stdout",
     "output_type": "stream",
     "text": [
      "[CV 2/5; 18/54] END model__criterion=gini, model__max_depth=4, model__max_features=None, model__min_samples_leaf=3;, score=(train=0.938, test=0.937) total time=  39.2s\n",
      "[CV 3/5; 18/54] START model__criterion=gini, model__max_depth=4, model__max_features=None, model__min_samples_leaf=3\n"
     ]
    },
    {
     "name": "stderr",
     "output_type": "stream",
     "text": [
      "/Users/abdullahghifari/anaconda3/lib/python3.10/site-packages/sklearn/feature_extraction/text.py:528: UserWarning: The parameter 'token_pattern' will not be used since 'tokenizer' is not None'\n",
      "  warnings.warn(\n"
     ]
    },
    {
     "name": "stdout",
     "output_type": "stream",
     "text": [
      "[CV 3/5; 18/54] END model__criterion=gini, model__max_depth=4, model__max_features=None, model__min_samples_leaf=3;, score=(train=0.937, test=0.937) total time=  40.1s\n",
      "[CV 4/5; 18/54] START model__criterion=gini, model__max_depth=4, model__max_features=None, model__min_samples_leaf=3\n"
     ]
    },
    {
     "name": "stderr",
     "output_type": "stream",
     "text": [
      "/Users/abdullahghifari/anaconda3/lib/python3.10/site-packages/sklearn/feature_extraction/text.py:528: UserWarning: The parameter 'token_pattern' will not be used since 'tokenizer' is not None'\n",
      "  warnings.warn(\n"
     ]
    },
    {
     "name": "stdout",
     "output_type": "stream",
     "text": [
      "[CV 4/5; 18/54] END model__criterion=gini, model__max_depth=4, model__max_features=None, model__min_samples_leaf=3;, score=(train=0.938, test=0.936) total time=  38.9s\n",
      "[CV 5/5; 18/54] START model__criterion=gini, model__max_depth=4, model__max_features=None, model__min_samples_leaf=3\n"
     ]
    },
    {
     "name": "stderr",
     "output_type": "stream",
     "text": [
      "/Users/abdullahghifari/anaconda3/lib/python3.10/site-packages/sklearn/feature_extraction/text.py:528: UserWarning: The parameter 'token_pattern' will not be used since 'tokenizer' is not None'\n",
      "  warnings.warn(\n"
     ]
    },
    {
     "name": "stdout",
     "output_type": "stream",
     "text": [
      "[CV 5/5; 18/54] END model__criterion=gini, model__max_depth=4, model__max_features=None, model__min_samples_leaf=3;, score=(train=0.937, test=0.937) total time=  40.8s\n",
      "[CV 1/5; 19/54] START model__criterion=gini, model__max_depth=None, model__max_features=sqrt, model__min_samples_leaf=1\n"
     ]
    },
    {
     "name": "stderr",
     "output_type": "stream",
     "text": [
      "/Users/abdullahghifari/anaconda3/lib/python3.10/site-packages/sklearn/feature_extraction/text.py:528: UserWarning: The parameter 'token_pattern' will not be used since 'tokenizer' is not None'\n",
      "  warnings.warn(\n"
     ]
    },
    {
     "name": "stdout",
     "output_type": "stream",
     "text": [
      "[CV 1/5; 19/54] END model__criterion=gini, model__max_depth=None, model__max_features=sqrt, model__min_samples_leaf=1;, score=(train=1.000, test=0.945) total time=  52.0s\n",
      "[CV 2/5; 19/54] START model__criterion=gini, model__max_depth=None, model__max_features=sqrt, model__min_samples_leaf=1\n"
     ]
    },
    {
     "name": "stderr",
     "output_type": "stream",
     "text": [
      "/Users/abdullahghifari/anaconda3/lib/python3.10/site-packages/sklearn/feature_extraction/text.py:528: UserWarning: The parameter 'token_pattern' will not be used since 'tokenizer' is not None'\n",
      "  warnings.warn(\n"
     ]
    },
    {
     "name": "stdout",
     "output_type": "stream",
     "text": [
      "[CV 2/5; 19/54] END model__criterion=gini, model__max_depth=None, model__max_features=sqrt, model__min_samples_leaf=1;, score=(train=1.000, test=0.944) total time=  52.5s\n",
      "[CV 3/5; 19/54] START model__criterion=gini, model__max_depth=None, model__max_features=sqrt, model__min_samples_leaf=1\n"
     ]
    },
    {
     "name": "stderr",
     "output_type": "stream",
     "text": [
      "/Users/abdullahghifari/anaconda3/lib/python3.10/site-packages/sklearn/feature_extraction/text.py:528: UserWarning: The parameter 'token_pattern' will not be used since 'tokenizer' is not None'\n",
      "  warnings.warn(\n"
     ]
    },
    {
     "name": "stdout",
     "output_type": "stream",
     "text": [
      "[CV 3/5; 19/54] END model__criterion=gini, model__max_depth=None, model__max_features=sqrt, model__min_samples_leaf=1;, score=(train=1.000, test=0.946) total time=  52.7s\n",
      "[CV 4/5; 19/54] START model__criterion=gini, model__max_depth=None, model__max_features=sqrt, model__min_samples_leaf=1\n"
     ]
    },
    {
     "name": "stderr",
     "output_type": "stream",
     "text": [
      "/Users/abdullahghifari/anaconda3/lib/python3.10/site-packages/sklearn/feature_extraction/text.py:528: UserWarning: The parameter 'token_pattern' will not be used since 'tokenizer' is not None'\n",
      "  warnings.warn(\n"
     ]
    },
    {
     "name": "stdout",
     "output_type": "stream",
     "text": [
      "[CV 4/5; 19/54] END model__criterion=gini, model__max_depth=None, model__max_features=sqrt, model__min_samples_leaf=1;, score=(train=1.000, test=0.944) total time=  52.3s\n",
      "[CV 5/5; 19/54] START model__criterion=gini, model__max_depth=None, model__max_features=sqrt, model__min_samples_leaf=1\n"
     ]
    },
    {
     "name": "stderr",
     "output_type": "stream",
     "text": [
      "/Users/abdullahghifari/anaconda3/lib/python3.10/site-packages/sklearn/feature_extraction/text.py:528: UserWarning: The parameter 'token_pattern' will not be used since 'tokenizer' is not None'\n",
      "  warnings.warn(\n"
     ]
    },
    {
     "name": "stdout",
     "output_type": "stream",
     "text": [
      "[CV 5/5; 19/54] END model__criterion=gini, model__max_depth=None, model__max_features=sqrt, model__min_samples_leaf=1;, score=(train=1.000, test=0.945) total time=  51.5s\n",
      "[CV 1/5; 20/54] START model__criterion=gini, model__max_depth=None, model__max_features=sqrt, model__min_samples_leaf=2\n"
     ]
    },
    {
     "name": "stderr",
     "output_type": "stream",
     "text": [
      "/Users/abdullahghifari/anaconda3/lib/python3.10/site-packages/sklearn/feature_extraction/text.py:528: UserWarning: The parameter 'token_pattern' will not be used since 'tokenizer' is not None'\n",
      "  warnings.warn(\n"
     ]
    },
    {
     "name": "stdout",
     "output_type": "stream",
     "text": [
      "[CV 1/5; 20/54] END model__criterion=gini, model__max_depth=None, model__max_features=sqrt, model__min_samples_leaf=2;, score=(train=0.948, test=0.942) total time=  33.9s\n",
      "[CV 2/5; 20/54] START model__criterion=gini, model__max_depth=None, model__max_features=sqrt, model__min_samples_leaf=2\n"
     ]
    },
    {
     "name": "stderr",
     "output_type": "stream",
     "text": [
      "/Users/abdullahghifari/anaconda3/lib/python3.10/site-packages/sklearn/feature_extraction/text.py:528: UserWarning: The parameter 'token_pattern' will not be used since 'tokenizer' is not None'\n",
      "  warnings.warn(\n"
     ]
    },
    {
     "name": "stdout",
     "output_type": "stream",
     "text": [
      "[CV 2/5; 20/54] END model__criterion=gini, model__max_depth=None, model__max_features=sqrt, model__min_samples_leaf=2;, score=(train=0.948, test=0.940) total time=  33.6s\n",
      "[CV 3/5; 20/54] START model__criterion=gini, model__max_depth=None, model__max_features=sqrt, model__min_samples_leaf=2\n"
     ]
    },
    {
     "name": "stderr",
     "output_type": "stream",
     "text": [
      "/Users/abdullahghifari/anaconda3/lib/python3.10/site-packages/sklearn/feature_extraction/text.py:528: UserWarning: The parameter 'token_pattern' will not be used since 'tokenizer' is not None'\n",
      "  warnings.warn(\n"
     ]
    },
    {
     "name": "stdout",
     "output_type": "stream",
     "text": [
      "[CV 3/5; 20/54] END model__criterion=gini, model__max_depth=None, model__max_features=sqrt, model__min_samples_leaf=2;, score=(train=0.948, test=0.943) total time=  33.8s\n",
      "[CV 4/5; 20/54] START model__criterion=gini, model__max_depth=None, model__max_features=sqrt, model__min_samples_leaf=2\n"
     ]
    },
    {
     "name": "stderr",
     "output_type": "stream",
     "text": [
      "/Users/abdullahghifari/anaconda3/lib/python3.10/site-packages/sklearn/feature_extraction/text.py:528: UserWarning: The parameter 'token_pattern' will not be used since 'tokenizer' is not None'\n",
      "  warnings.warn(\n"
     ]
    },
    {
     "name": "stdout",
     "output_type": "stream",
     "text": [
      "[CV 4/5; 20/54] END model__criterion=gini, model__max_depth=None, model__max_features=sqrt, model__min_samples_leaf=2;, score=(train=0.948, test=0.940) total time=  34.8s\n",
      "[CV 5/5; 20/54] START model__criterion=gini, model__max_depth=None, model__max_features=sqrt, model__min_samples_leaf=2\n"
     ]
    },
    {
     "name": "stderr",
     "output_type": "stream",
     "text": [
      "/Users/abdullahghifari/anaconda3/lib/python3.10/site-packages/sklearn/feature_extraction/text.py:528: UserWarning: The parameter 'token_pattern' will not be used since 'tokenizer' is not None'\n",
      "  warnings.warn(\n"
     ]
    },
    {
     "name": "stdout",
     "output_type": "stream",
     "text": [
      "[CV 5/5; 20/54] END model__criterion=gini, model__max_depth=None, model__max_features=sqrt, model__min_samples_leaf=2;, score=(train=0.949, test=0.942) total time=  34.7s\n",
      "[CV 1/5; 21/54] START model__criterion=gini, model__max_depth=None, model__max_features=sqrt, model__min_samples_leaf=3\n"
     ]
    },
    {
     "name": "stderr",
     "output_type": "stream",
     "text": [
      "/Users/abdullahghifari/anaconda3/lib/python3.10/site-packages/sklearn/feature_extraction/text.py:528: UserWarning: The parameter 'token_pattern' will not be used since 'tokenizer' is not None'\n",
      "  warnings.warn(\n"
     ]
    },
    {
     "name": "stdout",
     "output_type": "stream",
     "text": [
      "[CV 1/5; 21/54] END model__criterion=gini, model__max_depth=None, model__max_features=sqrt, model__min_samples_leaf=3;, score=(train=0.944, test=0.941) total time=  32.4s\n",
      "[CV 2/5; 21/54] START model__criterion=gini, model__max_depth=None, model__max_features=sqrt, model__min_samples_leaf=3\n"
     ]
    },
    {
     "name": "stderr",
     "output_type": "stream",
     "text": [
      "/Users/abdullahghifari/anaconda3/lib/python3.10/site-packages/sklearn/feature_extraction/text.py:528: UserWarning: The parameter 'token_pattern' will not be used since 'tokenizer' is not None'\n",
      "  warnings.warn(\n"
     ]
    },
    {
     "name": "stdout",
     "output_type": "stream",
     "text": [
      "[CV 2/5; 21/54] END model__criterion=gini, model__max_depth=None, model__max_features=sqrt, model__min_samples_leaf=3;, score=(train=0.944, test=0.939) total time=  32.3s\n",
      "[CV 3/5; 21/54] START model__criterion=gini, model__max_depth=None, model__max_features=sqrt, model__min_samples_leaf=3\n"
     ]
    },
    {
     "name": "stderr",
     "output_type": "stream",
     "text": [
      "/Users/abdullahghifari/anaconda3/lib/python3.10/site-packages/sklearn/feature_extraction/text.py:528: UserWarning: The parameter 'token_pattern' will not be used since 'tokenizer' is not None'\n",
      "  warnings.warn(\n"
     ]
    },
    {
     "name": "stdout",
     "output_type": "stream",
     "text": [
      "[CV 3/5; 21/54] END model__criterion=gini, model__max_depth=None, model__max_features=sqrt, model__min_samples_leaf=3;, score=(train=0.944, test=0.941) total time=  32.4s\n",
      "[CV 4/5; 21/54] START model__criterion=gini, model__max_depth=None, model__max_features=sqrt, model__min_samples_leaf=3\n"
     ]
    },
    {
     "name": "stderr",
     "output_type": "stream",
     "text": [
      "/Users/abdullahghifari/anaconda3/lib/python3.10/site-packages/sklearn/feature_extraction/text.py:528: UserWarning: The parameter 'token_pattern' will not be used since 'tokenizer' is not None'\n",
      "  warnings.warn(\n"
     ]
    },
    {
     "name": "stdout",
     "output_type": "stream",
     "text": [
      "[CV 4/5; 21/54] END model__criterion=gini, model__max_depth=None, model__max_features=sqrt, model__min_samples_leaf=3;, score=(train=0.944, test=0.939) total time=  32.1s\n",
      "[CV 5/5; 21/54] START model__criterion=gini, model__max_depth=None, model__max_features=sqrt, model__min_samples_leaf=3\n"
     ]
    },
    {
     "name": "stderr",
     "output_type": "stream",
     "text": [
      "/Users/abdullahghifari/anaconda3/lib/python3.10/site-packages/sklearn/feature_extraction/text.py:528: UserWarning: The parameter 'token_pattern' will not be used since 'tokenizer' is not None'\n",
      "  warnings.warn(\n"
     ]
    },
    {
     "name": "stdout",
     "output_type": "stream",
     "text": [
      "[CV 5/5; 21/54] END model__criterion=gini, model__max_depth=None, model__max_features=sqrt, model__min_samples_leaf=3;, score=(train=0.945, test=0.940) total time=  32.1s\n",
      "[CV 1/5; 22/54] START model__criterion=gini, model__max_depth=None, model__max_features=log2, model__min_samples_leaf=1\n"
     ]
    },
    {
     "name": "stderr",
     "output_type": "stream",
     "text": [
      "/Users/abdullahghifari/anaconda3/lib/python3.10/site-packages/sklearn/feature_extraction/text.py:528: UserWarning: The parameter 'token_pattern' will not be used since 'tokenizer' is not None'\n",
      "  warnings.warn(\n"
     ]
    },
    {
     "name": "stdout",
     "output_type": "stream",
     "text": [
      "[CV 1/5; 22/54] END model__criterion=gini, model__max_depth=None, model__max_features=log2, model__min_samples_leaf=1;, score=(train=1.000, test=0.941) total time=  51.4s\n",
      "[CV 2/5; 22/54] START model__criterion=gini, model__max_depth=None, model__max_features=log2, model__min_samples_leaf=1\n"
     ]
    },
    {
     "name": "stderr",
     "output_type": "stream",
     "text": [
      "/Users/abdullahghifari/anaconda3/lib/python3.10/site-packages/sklearn/feature_extraction/text.py:528: UserWarning: The parameter 'token_pattern' will not be used since 'tokenizer' is not None'\n",
      "  warnings.warn(\n"
     ]
    },
    {
     "name": "stdout",
     "output_type": "stream",
     "text": [
      "[CV 2/5; 22/54] END model__criterion=gini, model__max_depth=None, model__max_features=log2, model__min_samples_leaf=1;, score=(train=1.000, test=0.939) total time=  51.7s\n",
      "[CV 3/5; 22/54] START model__criterion=gini, model__max_depth=None, model__max_features=log2, model__min_samples_leaf=1\n"
     ]
    },
    {
     "name": "stderr",
     "output_type": "stream",
     "text": [
      "/Users/abdullahghifari/anaconda3/lib/python3.10/site-packages/sklearn/feature_extraction/text.py:528: UserWarning: The parameter 'token_pattern' will not be used since 'tokenizer' is not None'\n",
      "  warnings.warn(\n"
     ]
    },
    {
     "name": "stdout",
     "output_type": "stream",
     "text": [
      "[CV 3/5; 22/54] END model__criterion=gini, model__max_depth=None, model__max_features=log2, model__min_samples_leaf=1;, score=(train=1.000, test=0.941) total time=  51.5s\n",
      "[CV 4/5; 22/54] START model__criterion=gini, model__max_depth=None, model__max_features=log2, model__min_samples_leaf=1\n"
     ]
    },
    {
     "name": "stderr",
     "output_type": "stream",
     "text": [
      "/Users/abdullahghifari/anaconda3/lib/python3.10/site-packages/sklearn/feature_extraction/text.py:528: UserWarning: The parameter 'token_pattern' will not be used since 'tokenizer' is not None'\n",
      "  warnings.warn(\n"
     ]
    },
    {
     "name": "stdout",
     "output_type": "stream",
     "text": [
      "[CV 4/5; 22/54] END model__criterion=gini, model__max_depth=None, model__max_features=log2, model__min_samples_leaf=1;, score=(train=1.000, test=0.939) total time=  51.2s\n",
      "[CV 5/5; 22/54] START model__criterion=gini, model__max_depth=None, model__max_features=log2, model__min_samples_leaf=1\n"
     ]
    },
    {
     "name": "stderr",
     "output_type": "stream",
     "text": [
      "/Users/abdullahghifari/anaconda3/lib/python3.10/site-packages/sklearn/feature_extraction/text.py:528: UserWarning: The parameter 'token_pattern' will not be used since 'tokenizer' is not None'\n",
      "  warnings.warn(\n"
     ]
    },
    {
     "name": "stdout",
     "output_type": "stream",
     "text": [
      "[CV 5/5; 22/54] END model__criterion=gini, model__max_depth=None, model__max_features=log2, model__min_samples_leaf=1;, score=(train=1.000, test=0.940) total time=  51.2s\n",
      "[CV 1/5; 23/54] START model__criterion=gini, model__max_depth=None, model__max_features=log2, model__min_samples_leaf=2\n"
     ]
    },
    {
     "name": "stderr",
     "output_type": "stream",
     "text": [
      "/Users/abdullahghifari/anaconda3/lib/python3.10/site-packages/sklearn/feature_extraction/text.py:528: UserWarning: The parameter 'token_pattern' will not be used since 'tokenizer' is not None'\n",
      "  warnings.warn(\n"
     ]
    },
    {
     "name": "stdout",
     "output_type": "stream",
     "text": [
      "[CV 1/5; 23/54] END model__criterion=gini, model__max_depth=None, model__max_features=log2, model__min_samples_leaf=2;, score=(train=0.928, test=0.929) total time=  29.5s\n",
      "[CV 2/5; 23/54] START model__criterion=gini, model__max_depth=None, model__max_features=log2, model__min_samples_leaf=2\n"
     ]
    },
    {
     "name": "stderr",
     "output_type": "stream",
     "text": [
      "/Users/abdullahghifari/anaconda3/lib/python3.10/site-packages/sklearn/feature_extraction/text.py:528: UserWarning: The parameter 'token_pattern' will not be used since 'tokenizer' is not None'\n",
      "  warnings.warn(\n"
     ]
    },
    {
     "name": "stdout",
     "output_type": "stream",
     "text": [
      "[CV 2/5; 23/54] END model__criterion=gini, model__max_depth=None, model__max_features=log2, model__min_samples_leaf=2;, score=(train=0.928, test=0.926) total time=  29.0s\n",
      "[CV 3/5; 23/54] START model__criterion=gini, model__max_depth=None, model__max_features=log2, model__min_samples_leaf=2\n"
     ]
    },
    {
     "name": "stderr",
     "output_type": "stream",
     "text": [
      "/Users/abdullahghifari/anaconda3/lib/python3.10/site-packages/sklearn/feature_extraction/text.py:528: UserWarning: The parameter 'token_pattern' will not be used since 'tokenizer' is not None'\n",
      "  warnings.warn(\n"
     ]
    },
    {
     "name": "stdout",
     "output_type": "stream",
     "text": [
      "[CV 3/5; 23/54] END model__criterion=gini, model__max_depth=None, model__max_features=log2, model__min_samples_leaf=2;, score=(train=0.928, test=0.929) total time=  28.9s\n",
      "[CV 4/5; 23/54] START model__criterion=gini, model__max_depth=None, model__max_features=log2, model__min_samples_leaf=2\n"
     ]
    },
    {
     "name": "stderr",
     "output_type": "stream",
     "text": [
      "/Users/abdullahghifari/anaconda3/lib/python3.10/site-packages/sklearn/feature_extraction/text.py:528: UserWarning: The parameter 'token_pattern' will not be used since 'tokenizer' is not None'\n",
      "  warnings.warn(\n"
     ]
    },
    {
     "name": "stdout",
     "output_type": "stream",
     "text": [
      "[CV 4/5; 23/54] END model__criterion=gini, model__max_depth=None, model__max_features=log2, model__min_samples_leaf=2;, score=(train=0.928, test=0.927) total time=  29.1s\n",
      "[CV 5/5; 23/54] START model__criterion=gini, model__max_depth=None, model__max_features=log2, model__min_samples_leaf=2\n"
     ]
    },
    {
     "name": "stderr",
     "output_type": "stream",
     "text": [
      "/Users/abdullahghifari/anaconda3/lib/python3.10/site-packages/sklearn/feature_extraction/text.py:528: UserWarning: The parameter 'token_pattern' will not be used since 'tokenizer' is not None'\n",
      "  warnings.warn(\n"
     ]
    },
    {
     "name": "stdout",
     "output_type": "stream",
     "text": [
      "[CV 5/5; 23/54] END model__criterion=gini, model__max_depth=None, model__max_features=log2, model__min_samples_leaf=2;, score=(train=0.928, test=0.927) total time=  28.9s\n",
      "[CV 1/5; 24/54] START model__criterion=gini, model__max_depth=None, model__max_features=log2, model__min_samples_leaf=3\n"
     ]
    },
    {
     "name": "stderr",
     "output_type": "stream",
     "text": [
      "/Users/abdullahghifari/anaconda3/lib/python3.10/site-packages/sklearn/feature_extraction/text.py:528: UserWarning: The parameter 'token_pattern' will not be used since 'tokenizer' is not None'\n",
      "  warnings.warn(\n"
     ]
    },
    {
     "name": "stdout",
     "output_type": "stream",
     "text": [
      "[CV 1/5; 24/54] END model__criterion=gini, model__max_depth=None, model__max_features=log2, model__min_samples_leaf=3;, score=(train=0.926, test=0.927) total time=34.6min\n",
      "[CV 2/5; 24/54] START model__criterion=gini, model__max_depth=None, model__max_features=log2, model__min_samples_leaf=3\n"
     ]
    },
    {
     "name": "stderr",
     "output_type": "stream",
     "text": [
      "/Users/abdullahghifari/anaconda3/lib/python3.10/site-packages/sklearn/feature_extraction/text.py:528: UserWarning: The parameter 'token_pattern' will not be used since 'tokenizer' is not None'\n",
      "  warnings.warn(\n"
     ]
    },
    {
     "name": "stdout",
     "output_type": "stream",
     "text": [
      "[CV 2/5; 24/54] END model__criterion=gini, model__max_depth=None, model__max_features=log2, model__min_samples_leaf=3;, score=(train=0.927, test=0.925) total time=27.5min\n",
      "[CV 3/5; 24/54] START model__criterion=gini, model__max_depth=None, model__max_features=log2, model__min_samples_leaf=3\n"
     ]
    },
    {
     "name": "stderr",
     "output_type": "stream",
     "text": [
      "/Users/abdullahghifari/anaconda3/lib/python3.10/site-packages/sklearn/feature_extraction/text.py:528: UserWarning: The parameter 'token_pattern' will not be used since 'tokenizer' is not None'\n",
      "  warnings.warn(\n"
     ]
    },
    {
     "name": "stdout",
     "output_type": "stream",
     "text": [
      "[CV 3/5; 24/54] END model__criterion=gini, model__max_depth=None, model__max_features=log2, model__min_samples_leaf=3;, score=(train=0.926, test=0.928) total time=  27.5s\n",
      "[CV 4/5; 24/54] START model__criterion=gini, model__max_depth=None, model__max_features=log2, model__min_samples_leaf=3\n"
     ]
    },
    {
     "name": "stderr",
     "output_type": "stream",
     "text": [
      "/Users/abdullahghifari/anaconda3/lib/python3.10/site-packages/sklearn/feature_extraction/text.py:528: UserWarning: The parameter 'token_pattern' will not be used since 'tokenizer' is not None'\n",
      "  warnings.warn(\n"
     ]
    },
    {
     "name": "stdout",
     "output_type": "stream",
     "text": [
      "[CV 4/5; 24/54] END model__criterion=gini, model__max_depth=None, model__max_features=log2, model__min_samples_leaf=3;, score=(train=0.926, test=0.925) total time=  28.0s\n",
      "[CV 5/5; 24/54] START model__criterion=gini, model__max_depth=None, model__max_features=log2, model__min_samples_leaf=3\n"
     ]
    },
    {
     "name": "stderr",
     "output_type": "stream",
     "text": [
      "/Users/abdullahghifari/anaconda3/lib/python3.10/site-packages/sklearn/feature_extraction/text.py:528: UserWarning: The parameter 'token_pattern' will not be used since 'tokenizer' is not None'\n",
      "  warnings.warn(\n"
     ]
    },
    {
     "name": "stdout",
     "output_type": "stream",
     "text": [
      "[CV 5/5; 24/54] END model__criterion=gini, model__max_depth=None, model__max_features=log2, model__min_samples_leaf=3;, score=(train=0.926, test=0.926) total time=  27.8s\n",
      "[CV 1/5; 25/54] START model__criterion=gini, model__max_depth=None, model__max_features=None, model__min_samples_leaf=1\n"
     ]
    },
    {
     "name": "stderr",
     "output_type": "stream",
     "text": [
      "/Users/abdullahghifari/anaconda3/lib/python3.10/site-packages/sklearn/feature_extraction/text.py:528: UserWarning: The parameter 'token_pattern' will not be used since 'tokenizer' is not None'\n",
      "  warnings.warn(\n"
     ]
    },
    {
     "name": "stdout",
     "output_type": "stream",
     "text": [
      "[CV 1/5; 25/54] END model__criterion=gini, model__max_depth=None, model__max_features=None, model__min_samples_leaf=1;, score=(train=1.000, test=0.947) total time=11.2min\n",
      "[CV 2/5; 25/54] START model__criterion=gini, model__max_depth=None, model__max_features=None, model__min_samples_leaf=1\n"
     ]
    },
    {
     "name": "stderr",
     "output_type": "stream",
     "text": [
      "/Users/abdullahghifari/anaconda3/lib/python3.10/site-packages/sklearn/feature_extraction/text.py:528: UserWarning: The parameter 'token_pattern' will not be used since 'tokenizer' is not None'\n",
      "  warnings.warn(\n"
     ]
    },
    {
     "name": "stdout",
     "output_type": "stream",
     "text": [
      "[CV 2/5; 25/54] END model__criterion=gini, model__max_depth=None, model__max_features=None, model__min_samples_leaf=1;, score=(train=1.000, test=0.946) total time=11.5min\n",
      "[CV 3/5; 25/54] START model__criterion=gini, model__max_depth=None, model__max_features=None, model__min_samples_leaf=1\n"
     ]
    },
    {
     "name": "stderr",
     "output_type": "stream",
     "text": [
      "/Users/abdullahghifari/anaconda3/lib/python3.10/site-packages/sklearn/feature_extraction/text.py:528: UserWarning: The parameter 'token_pattern' will not be used since 'tokenizer' is not None'\n",
      "  warnings.warn(\n"
     ]
    },
    {
     "name": "stdout",
     "output_type": "stream",
     "text": [
      "[CV 3/5; 25/54] END model__criterion=gini, model__max_depth=None, model__max_features=None, model__min_samples_leaf=1;, score=(train=1.000, test=0.947) total time=22.5min\n",
      "[CV 4/5; 25/54] START model__criterion=gini, model__max_depth=None, model__max_features=None, model__min_samples_leaf=1\n"
     ]
    },
    {
     "name": "stderr",
     "output_type": "stream",
     "text": [
      "/Users/abdullahghifari/anaconda3/lib/python3.10/site-packages/sklearn/feature_extraction/text.py:528: UserWarning: The parameter 'token_pattern' will not be used since 'tokenizer' is not None'\n",
      "  warnings.warn(\n"
     ]
    },
    {
     "name": "stdout",
     "output_type": "stream",
     "text": [
      "[CV 4/5; 25/54] END model__criterion=gini, model__max_depth=None, model__max_features=None, model__min_samples_leaf=1;, score=(train=1.000, test=0.946) total time=10.9min\n",
      "[CV 5/5; 25/54] START model__criterion=gini, model__max_depth=None, model__max_features=None, model__min_samples_leaf=1\n"
     ]
    },
    {
     "name": "stderr",
     "output_type": "stream",
     "text": [
      "/Users/abdullahghifari/anaconda3/lib/python3.10/site-packages/sklearn/feature_extraction/text.py:528: UserWarning: The parameter 'token_pattern' will not be used since 'tokenizer' is not None'\n",
      "  warnings.warn(\n"
     ]
    }
   ],
   "source": [
    "cv.fit(X_train,y_train)"
   ]
  },
  {
   "cell_type": "markdown",
   "metadata": {},
   "source": [
    "### 7. Test your model\n",
    "Show the accuracy, precision, and recall of the tuned model.  \n",
    "\n",
    "Since this project focuses on code quality, process, and  pipelines, there is no minimum performance metric needed to pass. However, make sure to fine tune your models for accuracy, precision and recall to make your project stand out - especially for your portfolio!"
   ]
  },
  {
   "cell_type": "code",
   "execution_count": null,
   "metadata": {},
   "outputs": [],
   "source": [
    "y_train_pred = cv.predict(X_train)\n",
    "y_test_pred = cv.predict(X_test)"
   ]
  },
  {
   "cell_type": "code",
   "execution_count": null,
   "metadata": {},
   "outputs": [],
   "source": [
    "train_results = []\n",
    "for i,column in enumerate(y_train.columns):\n",
    "    result = get_score(y_train.loc[:,column].values,y_train_pred[:,i])\n",
    "    train_results.append(result)\n",
    "train_results_df = pd.DataFrame(train_results)\n",
    "train_results_df    "
   ]
  },
  {
   "cell_type": "code",
   "execution_count": null,
   "metadata": {},
   "outputs": [],
   "source": [
    "test_results = []\n",
    "for i,column in enumerate(y_test.columns):\n",
    "    result = get_score(y_test.loc[:,column].values,y_test_pred[:,i])\n",
    "    test_results.append(result)\n",
    "test_results_df = pd.DataFrame(test_results)\n",
    "test_results_df"
   ]
  },
  {
   "cell_type": "code",
   "execution_count": null,
   "metadata": {},
   "outputs": [],
   "source": [
    "train_results_df['F1-score'].mean()"
   ]
  },
  {
   "cell_type": "code",
   "execution_count": null,
   "metadata": {},
   "outputs": [],
   "source": [
    "test_results_df['F1-score'].mean()"
   ]
  },
  {
   "cell_type": "markdown",
   "metadata": {},
   "source": [
    "### 8. Try improving your model further. Here are a few ideas:\n",
    "* try other machine learning algorithms\n",
    "* add other features besides the TF-IDF"
   ]
  },
  {
   "cell_type": "code",
   "execution_count": null,
   "metadata": {},
   "outputs": [],
   "source": [
    "vectorizer = CountVectorizer( tokenizer=tokenize ,use_idf=True, smooth_idf=True, sublinear_tf=False)\n",
    "\n",
    "model = MultinomialNB(random_state=123)\n",
    "\n",
    "pipeline = Pipeline([\n",
    "    ('vectorizer',vectorizer),\n",
    "    ('model',model)\n",
    "])"
   ]
  },
  {
   "cell_type": "code",
   "execution_count": null,
   "metadata": {},
   "outputs": [],
   "source": [
    "parameters = {\n",
    "    'clf__force_alpha':[True,False]\n",
    "}"
   ]
  },
  {
   "cell_type": "code",
   "execution_count": null,
   "metadata": {},
   "outputs": [],
   "source": [
    "cv_nb = GridSearchCV(\n",
    "    pipeline,\n",
    "    param_grid=parameters, \n",
    "    scoring=score,\n",
    "    n_jobs = -1, \n",
    "    cv = 5, \n",
    "    refit = True, \n",
    "    return_train_score=True,\n",
    "    verbose=10)\n",
    "\n",
    "cv_nb.fit(X_train, y_train)"
   ]
  },
  {
   "cell_type": "code",
   "execution_count": null,
   "metadata": {},
   "outputs": [],
   "source": [
    "y_train_pred = cv.predict(X_train)\n",
    "y_test_pred = cv.predict(X_test)"
   ]
  },
  {
   "cell_type": "code",
   "execution_count": null,
   "metadata": {},
   "outputs": [],
   "source": [
    "train_results = []\n",
    "for i,column in enumerate(y_train.columns):\n",
    "    result = get_score(y_train.loc[:,column].values,y_train_pred[:,i])\n",
    "    train_results.append(result)\n",
    "train_results_df = pd.DataFrame(train_results)\n",
    "train_results_df    "
   ]
  },
  {
   "cell_type": "code",
   "execution_count": null,
   "metadata": {},
   "outputs": [],
   "source": [
    "test_results = []\n",
    "for i,column in enumerate(y_test.columns):\n",
    "    result = get_score(y_test.loc[:,column].values,y_test_pred[:,i])\n",
    "    test_results.append(result)\n",
    "test_results_df = pd.DataFrame(test_results)\n",
    "test_results_df"
   ]
  },
  {
   "cell_type": "code",
   "execution_count": null,
   "metadata": {},
   "outputs": [],
   "source": [
    "train_results_df['F1-score'].mean()"
   ]
  },
  {
   "cell_type": "code",
   "execution_count": null,
   "metadata": {},
   "outputs": [],
   "source": [
    "test_results_df['F1-score'].mean()"
   ]
  },
  {
   "cell_type": "markdown",
   "metadata": {},
   "source": [
    "### 9. Export your model as a pickle file"
   ]
  },
  {
   "cell_type": "code",
   "execution_count": null,
   "metadata": {},
   "outputs": [],
   "source": [
    "import pickle\n",
    "\n",
    "filename = 'best_model_rf_tuned.pkl'\n",
    "pickle.dump(cv, open(filename, 'wb'))\n",
    "\n",
    "filename = 'best_model_nb.pkl'\n",
    "pickle.dump(cv_nb, open(filename, 'wb'))"
   ]
  },
  {
   "cell_type": "markdown",
   "metadata": {},
   "source": [
    "### 10. Use this notebook to complete `train.py`\n",
    "Use the template file attached in the Resources folder to write a script that runs the steps above to create a database and export a model based on a new dataset specified by the user."
   ]
  },
  {
   "cell_type": "code",
   "execution_count": null,
   "metadata": {},
   "outputs": [],
   "source": []
  },
  {
   "cell_type": "code",
   "execution_count": null,
   "metadata": {},
   "outputs": [],
   "source": []
  },
  {
   "cell_type": "code",
   "execution_count": null,
   "metadata": {},
   "outputs": [],
   "source": []
  }
 ],
 "metadata": {
  "kernelspec": {
   "display_name": "Python 3 (ipykernel)",
   "language": "python",
   "name": "python3"
  },
  "language_info": {
   "codemirror_mode": {
    "name": "ipython",
    "version": 3
   },
   "file_extension": ".py",
   "mimetype": "text/x-python",
   "name": "python",
   "nbconvert_exporter": "python",
   "pygments_lexer": "ipython3",
   "version": "3.10.9"
  }
 },
 "nbformat": 4,
 "nbformat_minor": 2
}
